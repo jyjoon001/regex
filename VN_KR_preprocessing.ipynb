{
  "nbformat": 4,
  "nbformat_minor": 0,
  "metadata": {
    "colab": {
      "name": "VN_KR_preprocessing.ipynb",
      "provenance": [],
      "collapsed_sections": [],
      "authorship_tag": "ABX9TyNaTDG5sdPzH7cu5MuOvDsf",
      "include_colab_link": true
    },
    "kernelspec": {
      "name": "python3",
      "display_name": "Python 3"
    }
  },
  "cells": [
    {
      "cell_type": "markdown",
      "metadata": {
        "id": "view-in-github",
        "colab_type": "text"
      },
      "source": [
        "<a href=\"https://colab.research.google.com/github/jyjoon001/regex/blob/main/VN_KR_preprocessing.ipynb\" target=\"_parent\"><img src=\"https://colab.research.google.com/assets/colab-badge.svg\" alt=\"Open In Colab\"/></a>"
      ]
    },
    {
      "cell_type": "markdown",
      "metadata": {
        "id": "XRXD28M1EUem"
      },
      "source": [
        "# Korean Language Preprocessing for Visual Novel Translation\n",
        "\n",
        "한국어 번역문 검수에 유용하게 사용할 수 있는 Python 전처리 스크립트입니다. \n",
        "\n",
        "\n",
        "*   Spell Check\n",
        " *   띄어쓰기 검사 (PyKoSpacing)\n",
        " * 맞춤법 검사 (hanspell-py)\n",
        "\n",
        "> @tobisawa\n"
      ]
    },
    {
      "cell_type": "markdown",
      "metadata": {
        "id": "R268xNcMw1Dj"
      },
      "source": [
        "## 1. Basic Preprocessing\n",
        "Colab에서 라이브러리를 동작할 수 있게 설정합니다."
      ]
    },
    {
      "cell_type": "code",
      "metadata": {
        "colab": {
          "base_uri": "https://localhost:8080/",
          "height": 1000
        },
        "id": "C_4oYv6kLXxl",
        "outputId": "617dc4cf-a0c5-4946-844e-e219b1d969cf"
      },
      "source": [
        "!pip install git+https://github.com/haven-jeon/PyKoSpacing.git\n",
        "!pip install git+https://github.com/ssut/py-hanspell.git"
      ],
      "execution_count": null,
      "outputs": [
        {
          "output_type": "stream",
          "text": [
            "Collecting git+https://github.com/haven-jeon/PyKoSpacing.git\n",
            "  Cloning https://github.com/haven-jeon/PyKoSpacing.git to /tmp/pip-req-build-m6ujqhn6\n",
            "  Running command git clone -q https://github.com/haven-jeon/PyKoSpacing.git /tmp/pip-req-build-m6ujqhn6\n",
            "Collecting tensorflow==2.4.0\n",
            "\u001b[?25l  Downloading https://files.pythonhosted.org/packages/7a/ce/e76c4e3d2c245f4f20eff1bf9cbcc602109448142881e1f946ba2d7327bb/tensorflow-2.4.0-cp36-cp36m-manylinux2010_x86_64.whl (394.7MB)\n",
            "\u001b[K     |████████████████████████████████| 394.7MB 43kB/s \n",
            "\u001b[?25hRequirement already satisfied: keras>=2.4.3 in /usr/local/lib/python3.6/dist-packages (from pykospacing==0.4) (2.4.3)\n",
            "Requirement already satisfied: h5py==2.10.0 in /usr/local/lib/python3.6/dist-packages (from pykospacing==0.4) (2.10.0)\n",
            "Collecting argparse>=1.4.0\n",
            "  Downloading https://files.pythonhosted.org/packages/f2/94/3af39d34be01a24a6e65433d19e107099374224905f1e0cc6bbe1fd22a2f/argparse-1.4.0-py2.py3-none-any.whl\n",
            "Requirement already satisfied: astunparse~=1.6.3 in /usr/local/lib/python3.6/dist-packages (from tensorflow==2.4.0->pykospacing==0.4) (1.6.3)\n",
            "Requirement already satisfied: google-pasta~=0.2 in /usr/local/lib/python3.6/dist-packages (from tensorflow==2.4.0->pykospacing==0.4) (0.2.0)\n",
            "Requirement already satisfied: keras-preprocessing~=1.1.2 in /usr/local/lib/python3.6/dist-packages (from tensorflow==2.4.0->pykospacing==0.4) (1.1.2)\n",
            "Requirement already satisfied: absl-py~=0.10 in /usr/local/lib/python3.6/dist-packages (from tensorflow==2.4.0->pykospacing==0.4) (0.10.0)\n",
            "Requirement already satisfied: tensorflow-estimator<2.5.0,>=2.4.0rc0 in /usr/local/lib/python3.6/dist-packages (from tensorflow==2.4.0->pykospacing==0.4) (2.4.0)\n",
            "Requirement already satisfied: termcolor~=1.1.0 in /usr/local/lib/python3.6/dist-packages (from tensorflow==2.4.0->pykospacing==0.4) (1.1.0)\n",
            "Requirement already satisfied: six~=1.15.0 in /usr/local/lib/python3.6/dist-packages (from tensorflow==2.4.0->pykospacing==0.4) (1.15.0)\n",
            "Requirement already satisfied: wheel~=0.35 in /usr/local/lib/python3.6/dist-packages (from tensorflow==2.4.0->pykospacing==0.4) (0.36.2)\n",
            "Requirement already satisfied: gast==0.3.3 in /usr/local/lib/python3.6/dist-packages (from tensorflow==2.4.0->pykospacing==0.4) (0.3.3)\n",
            "Requirement already satisfied: opt-einsum~=3.3.0 in /usr/local/lib/python3.6/dist-packages (from tensorflow==2.4.0->pykospacing==0.4) (3.3.0)\n",
            "Requirement already satisfied: flatbuffers~=1.12.0 in /usr/local/lib/python3.6/dist-packages (from tensorflow==2.4.0->pykospacing==0.4) (1.12)\n",
            "Requirement already satisfied: typing-extensions~=3.7.4 in /usr/local/lib/python3.6/dist-packages (from tensorflow==2.4.0->pykospacing==0.4) (3.7.4.3)\n",
            "Requirement already satisfied: grpcio~=1.32.0 in /usr/local/lib/python3.6/dist-packages (from tensorflow==2.4.0->pykospacing==0.4) (1.32.0)\n",
            "Requirement already satisfied: tensorboard~=2.4 in /usr/local/lib/python3.6/dist-packages (from tensorflow==2.4.0->pykospacing==0.4) (2.4.1)\n",
            "Requirement already satisfied: numpy~=1.19.2 in /usr/local/lib/python3.6/dist-packages (from tensorflow==2.4.0->pykospacing==0.4) (1.19.5)\n",
            "Requirement already satisfied: wrapt~=1.12.1 in /usr/local/lib/python3.6/dist-packages (from tensorflow==2.4.0->pykospacing==0.4) (1.12.1)\n",
            "Requirement already satisfied: protobuf>=3.9.2 in /usr/local/lib/python3.6/dist-packages (from tensorflow==2.4.0->pykospacing==0.4) (3.12.4)\n",
            "Requirement already satisfied: pyyaml in /usr/local/lib/python3.6/dist-packages (from keras>=2.4.3->pykospacing==0.4) (3.13)\n",
            "Requirement already satisfied: scipy>=0.14 in /usr/local/lib/python3.6/dist-packages (from keras>=2.4.3->pykospacing==0.4) (1.4.1)\n",
            "Requirement already satisfied: markdown>=2.6.8 in /usr/local/lib/python3.6/dist-packages (from tensorboard~=2.4->tensorflow==2.4.0->pykospacing==0.4) (3.3.3)\n",
            "Requirement already satisfied: setuptools>=41.0.0 in /usr/local/lib/python3.6/dist-packages (from tensorboard~=2.4->tensorflow==2.4.0->pykospacing==0.4) (53.0.0)\n",
            "Requirement already satisfied: werkzeug>=0.11.15 in /usr/local/lib/python3.6/dist-packages (from tensorboard~=2.4->tensorflow==2.4.0->pykospacing==0.4) (1.0.1)\n",
            "Requirement already satisfied: google-auth-oauthlib<0.5,>=0.4.1 in /usr/local/lib/python3.6/dist-packages (from tensorboard~=2.4->tensorflow==2.4.0->pykospacing==0.4) (0.4.2)\n",
            "Requirement already satisfied: tensorboard-plugin-wit>=1.6.0 in /usr/local/lib/python3.6/dist-packages (from tensorboard~=2.4->tensorflow==2.4.0->pykospacing==0.4) (1.8.0)\n",
            "Requirement already satisfied: requests<3,>=2.21.0 in /usr/local/lib/python3.6/dist-packages (from tensorboard~=2.4->tensorflow==2.4.0->pykospacing==0.4) (2.23.0)\n",
            "Requirement already satisfied: google-auth<2,>=1.6.3 in /usr/local/lib/python3.6/dist-packages (from tensorboard~=2.4->tensorflow==2.4.0->pykospacing==0.4) (1.25.0)\n",
            "Requirement already satisfied: importlib-metadata; python_version < \"3.8\" in /usr/local/lib/python3.6/dist-packages (from markdown>=2.6.8->tensorboard~=2.4->tensorflow==2.4.0->pykospacing==0.4) (3.4.0)\n",
            "Requirement already satisfied: requests-oauthlib>=0.7.0 in /usr/local/lib/python3.6/dist-packages (from google-auth-oauthlib<0.5,>=0.4.1->tensorboard~=2.4->tensorflow==2.4.0->pykospacing==0.4) (1.3.0)\n",
            "Requirement already satisfied: urllib3!=1.25.0,!=1.25.1,<1.26,>=1.21.1 in /usr/local/lib/python3.6/dist-packages (from requests<3,>=2.21.0->tensorboard~=2.4->tensorflow==2.4.0->pykospacing==0.4) (1.24.3)\n",
            "Requirement already satisfied: chardet<4,>=3.0.2 in /usr/local/lib/python3.6/dist-packages (from requests<3,>=2.21.0->tensorboard~=2.4->tensorflow==2.4.0->pykospacing==0.4) (3.0.4)\n",
            "Requirement already satisfied: idna<3,>=2.5 in /usr/local/lib/python3.6/dist-packages (from requests<3,>=2.21.0->tensorboard~=2.4->tensorflow==2.4.0->pykospacing==0.4) (2.10)\n",
            "Requirement already satisfied: certifi>=2017.4.17 in /usr/local/lib/python3.6/dist-packages (from requests<3,>=2.21.0->tensorboard~=2.4->tensorflow==2.4.0->pykospacing==0.4) (2020.12.5)\n",
            "Requirement already satisfied: pyasn1-modules>=0.2.1 in /usr/local/lib/python3.6/dist-packages (from google-auth<2,>=1.6.3->tensorboard~=2.4->tensorflow==2.4.0->pykospacing==0.4) (0.2.8)\n",
            "Requirement already satisfied: cachetools<5.0,>=2.0.0 in /usr/local/lib/python3.6/dist-packages (from google-auth<2,>=1.6.3->tensorboard~=2.4->tensorflow==2.4.0->pykospacing==0.4) (4.2.1)\n",
            "Requirement already satisfied: rsa<5,>=3.1.4; python_version >= \"3.6\" in /usr/local/lib/python3.6/dist-packages (from google-auth<2,>=1.6.3->tensorboard~=2.4->tensorflow==2.4.0->pykospacing==0.4) (4.7)\n",
            "Requirement already satisfied: zipp>=0.5 in /usr/local/lib/python3.6/dist-packages (from importlib-metadata; python_version < \"3.8\"->markdown>=2.6.8->tensorboard~=2.4->tensorflow==2.4.0->pykospacing==0.4) (3.4.0)\n",
            "Requirement already satisfied: oauthlib>=3.0.0 in /usr/local/lib/python3.6/dist-packages (from requests-oauthlib>=0.7.0->google-auth-oauthlib<0.5,>=0.4.1->tensorboard~=2.4->tensorflow==2.4.0->pykospacing==0.4) (3.1.0)\n",
            "Requirement already satisfied: pyasn1<0.5.0,>=0.4.6 in /usr/local/lib/python3.6/dist-packages (from pyasn1-modules>=0.2.1->google-auth<2,>=1.6.3->tensorboard~=2.4->tensorflow==2.4.0->pykospacing==0.4) (0.4.8)\n",
            "Building wheels for collected packages: pykospacing\n",
            "  Building wheel for pykospacing (setup.py) ... \u001b[?25l\u001b[?25hdone\n",
            "  Created wheel for pykospacing: filename=pykospacing-0.4-cp36-none-any.whl size=2255638 sha256=a0c738ca05b73faf5c301aad2bd55a6b75a811b91eca11ccc13f560bd5225b6f\n",
            "  Stored in directory: /tmp/pip-ephem-wheel-cache-mb7r7xc8/wheels/4d/45/58/e26cb2b7f6a063d234158c6fd1e5700f6e15b99d67154340ba\n",
            "Successfully built pykospacing\n",
            "Installing collected packages: tensorflow, argparse, pykospacing\n",
            "  Found existing installation: tensorflow 2.4.1\n",
            "    Uninstalling tensorflow-2.4.1:\n",
            "      Successfully uninstalled tensorflow-2.4.1\n",
            "Successfully installed argparse-1.4.0 pykospacing-0.4 tensorflow-2.4.0\n"
          ],
          "name": "stdout"
        },
        {
          "output_type": "display_data",
          "data": {
            "application/vnd.colab-display-data+json": {
              "pip_warning": {
                "packages": [
                  "argparse"
                ]
              }
            }
          },
          "metadata": {
            "tags": []
          }
        },
        {
          "output_type": "stream",
          "text": [
            "Collecting git+https://github.com/ssut/py-hanspell.git\n",
            "  Cloning https://github.com/ssut/py-hanspell.git to /tmp/pip-req-build-kdgx5u6u\n",
            "  Running command git clone -q https://github.com/ssut/py-hanspell.git /tmp/pip-req-build-kdgx5u6u\n",
            "Requirement already satisfied: requests in /usr/local/lib/python3.6/dist-packages (from py-hanspell==1.1) (2.23.0)\n",
            "Requirement already satisfied: idna<3,>=2.5 in /usr/local/lib/python3.6/dist-packages (from requests->py-hanspell==1.1) (2.10)\n",
            "Requirement already satisfied: certifi>=2017.4.17 in /usr/local/lib/python3.6/dist-packages (from requests->py-hanspell==1.1) (2020.12.5)\n",
            "Requirement already satisfied: urllib3!=1.25.0,!=1.25.1,<1.26,>=1.21.1 in /usr/local/lib/python3.6/dist-packages (from requests->py-hanspell==1.1) (1.24.3)\n",
            "Requirement already satisfied: chardet<4,>=3.0.2 in /usr/local/lib/python3.6/dist-packages (from requests->py-hanspell==1.1) (3.0.4)\n",
            "Building wheels for collected packages: py-hanspell\n",
            "  Building wheel for py-hanspell (setup.py) ... \u001b[?25l\u001b[?25hdone\n",
            "  Created wheel for py-hanspell: filename=py_hanspell-1.1-cp36-none-any.whl size=4854 sha256=964dacd6e0e30c595642a6f6c58d18d0ec9e044538101e3d609424c43be01d9f\n",
            "  Stored in directory: /tmp/pip-ephem-wheel-cache-u324zcgc/wheels/0a/25/d1/e5e96476dbb1c318cc26c992dd493394fe42b0c204b3e65588\n",
            "Successfully built py-hanspell\n",
            "Installing collected packages: py-hanspell\n",
            "Successfully installed py-hanspell-1.1\n"
          ],
          "name": "stdout"
        }
      ]
    },
    {
      "cell_type": "markdown",
      "metadata": {
        "id": "lzCiBjVgwbnN"
      },
      "source": [
        "## 2. Spell check\n",
        "띄어쓰기 검사로는 [한국어 띄어쓰기 검사 라이브러리](https://github.com/haven-jeon/PyKoSpacing)를 사용하고,   \n",
        "맞춤법 검사로는 [한국어 맞춤법 검사 라이브러리](https://github.com/ssut/py-hanspell)와, 토큰 예외 지정 파일을 통하여 번역할 수 있습니다."
      ]
    },
    {
      "cell_type": "code",
      "metadata": {
        "colab": {
          "base_uri": "https://localhost:8080/"
        },
        "id": "qZzQNtc5HWaO",
        "outputId": "e44f1ab5-a9d5-46f5-d696-90f222014778"
      },
      "source": [
        "from google.colab import drive\n",
        "drive.mount('/content/drive')"
      ],
      "execution_count": null,
      "outputs": [
        {
          "output_type": "stream",
          "text": [
            "Mounted at /content/drive\n"
          ],
          "name": "stdout"
        }
      ]
    },
    {
      "cell_type": "markdown",
      "metadata": {
        "id": "7OOZNdpcx1PL"
      },
      "source": [
        "먼저 전처리된 번역 스크립트를 다운로드합니다."
      ]
    },
    {
      "cell_type": "code",
      "metadata": {
        "colab": {
          "base_uri": "https://localhost:8080/"
        },
        "id": "kuS2N0Ah23Ko",
        "outputId": "68b569b6-a725-4a29-84af-0c2fc2605a3a"
      },
      "source": [
        "!curl -c ./cookie -s -L \"https://drive.google.com/uc?export=download&id=1Ni5m5puOHeJBXCFYH1KgXBgJxg_N-wKs\" > /dev/null\n",
        "!curl -Lb ./cookie \"https://drive.google.com/uc?export=download&confirm=`awk '/download/ {print $NF}' ./cookie`&id=1Ni5m5puOHeJBXCFYH1KgXBgJxg_N-wKs\" -o text.txt"
      ],
      "execution_count": null,
      "outputs": [
        {
          "output_type": "stream",
          "text": [
            "  % Total    % Received % Xferd  Average Speed   Time    Time     Time  Current\n",
            "                                 Dload  Upload   Total   Spent    Left  Speed\n",
            "100   408    0   408    0     0    841      0 --:--:-- --:--:-- --:--:--   839\n",
            "  0     0    0     0    0     0      0      0 --:--:-- --:--:-- --:--:--     0\n",
            "  0     0    0     0    0     0      0      0 --:--:-- --:--:-- --:--:--     0\n",
            "100 47078  100 47078    0     0  75445      0 --:--:-- --:--:-- --:--:-- 75445\n"
          ],
          "name": "stdout"
        }
      ]
    },
    {
      "cell_type": "code",
      "metadata": {
        "id": "DYdUfwCoEN4i"
      },
      "source": [
        "# data = open('/content/drive/MyDrive/Konosora_KR/co2.txt', 'r', encoding='utf-8')\n",
        "data = open('/content/text.txt', 'r', encoding='utf-8')\n",
        "sent = data.readlines()"
      ],
      "execution_count": null,
      "outputs": []
    },
    {
      "cell_type": "code",
      "metadata": {
        "colab": {
          "base_uri": "https://localhost:8080/"
        },
        "id": "_iW3x0QZxP8D",
        "outputId": "6c342ded-3570-42a9-e8fc-344c45c2a0d5"
      },
      "source": [
        "for i in range(0, 10):\n",
        "    print(sent[i])"
      ],
      "execution_count": null,
      "outputs": [
        {
          "output_type": "stream",
          "text": [
            "「역시 여기 있었구나」\n",
            "\n",
            "「요루쨩」\n",
            "\n",
            "「슬슬 돌아가지 않으면 저녁시간에 늦어?」\n",
            "\n",
            "「응……그래도, 앞으로 조금만 더」\n",
            "\n",
            "「기다려도 헛수고야. 이제 나타나지 않아」\n",
            "\n",
            "「어? 어떻게 아는 거야?」\n",
            "\n",
            "「그 뒤로 한 번도 안 날았잖아. \\n 활주로를 보러 갔었는데, 잡초만 자라고 쓰이는 흔적도 없었어」\n",
            "\n",
            "「응……하지만」\n",
            "\n",
            "「으―……」\n",
            "\n",
            "「하아……」\n",
            "\n"
          ],
          "name": "stdout"
        }
      ]
    },
    {
      "cell_type": "markdown",
      "metadata": {
        "id": "B6P50veBysOK"
      },
      "source": [
        "다음으로 맞춤법 검사기에서 오류를 일으키는 텍스트 및 고유명사 등을 one-hot encoding한 커스텀 사전을 다운로드하여 적용합니다."
      ]
    },
    {
      "cell_type": "code",
      "metadata": {
        "colab": {
          "base_uri": "https://localhost:8080/"
        },
        "id": "UanelJrJ4Ib3",
        "outputId": "15c34631-bc6f-42d4-b902-c4b62ee5da66"
      },
      "source": [
        "!curl -c ./cookie -s -L \"https://drive.google.com/uc?export=download&id=1N2YdlZJgnGj1VwuXMC_vhGq1fYLSe9nW\" > /dev/null\n",
        "!curl -Lb ./cookie \"https://drive.google.com/uc?export=download&confirm=`awk '/download/ {print $NF}' ./cookie`&id=1N2YdlZJgnGj1VwuXMC_vhGq1fYLSe9nW\" -o encode.txt"
      ],
      "execution_count": null,
      "outputs": [
        {
          "output_type": "stream",
          "text": [
            "  % Total    % Received % Xferd  Average Speed   Time    Time     Time  Current\n",
            "                                 Dload  Upload   Total   Spent    Left  Speed\n",
            "100   408    0   408    0     0   1707      0 --:--:-- --:--:-- --:--:--  1700\n",
            "  0     0    0     0    0     0      0      0 --:--:-- --:--:-- --:--:--     0\n",
            "  0     0    0     0    0     0      0      0 --:--:-- --:--:-- --:--:--     0\n",
            "100   504  100   504    0     0   1279      0 --:--:-- --:--:-- --:--:--  1279\n"
          ],
          "name": "stdout"
        }
      ]
    },
    {
      "cell_type": "code",
      "metadata": {
        "id": "FsxiyaowyQ-H"
      },
      "source": [
        "lownword_encode = {}\n",
        "lownword_decode = {}\n",
        "lownword_data = open('/content/encode.txt', 'r', encoding='utf-8')\n",
        "lines = lownword_data.readlines()\n",
        "\n",
        "for line in lines:\n",
        "    line = line.strip()\n",
        "    miss_spell = line.split('\\t')[0]\n",
        "    ori_word = line.split('\\t')[1]\n",
        "    lownword_encode[miss_spell] = ori_word\n",
        "    lownword_decode[ori_word] = miss_spell"
      ],
      "execution_count": null,
      "outputs": []
    },
    {
      "cell_type": "code",
      "metadata": {
        "colab": {
          "base_uri": "https://localhost:8080/"
        },
        "id": "E0HMqDkd2Z8O",
        "outputId": "67b81ae0-df2f-4a51-d7fe-daabd6cf924d"
      },
      "source": [
        "print(lownword_encode)\n",
        "print(lownword_decode)"
      ],
      "execution_count": null,
      "outputs": [
        {
          "output_type": "stream",
          "text": [
            "{'&': 'wrd0_2', '료코': 'wrd1_2', '마사츠구': 'wrd2_2', '모닝글로리': 'wrd3_2', '모치즈키': 'wrd4_2', '사나에': 'wrd5_2', '소어링': 'wrd6_2', '시구레': 'wrd7_2', '아게하': 'wrd8_2', '아마네': 'wrd9_2', '아오이': 'wrd10_2', '아카리': 'wrd11_2', '에리': 'wrd12_2', '요루': 'wrd13_2', '유카': 'wrd14_2', '카나코': 'wrd15_2', '카자미': 'wrd16_2', '카자토': 'wrd17_2', '카제가우라': 'wrd18_2', '케이후': 'wrd19_2', '코토리': 'wrd20_2', '쿠모이': 'wrd21_2', '토비오카': 'wrd22_2', '하바네': 'wrd23_2', '호타루': 'wrd24_2', '히메기': 'wrd25_2', '히바리': 'wrd26_2'}\n",
            "{'wrd0_2': '&', 'wrd1_2': '료코', 'wrd2_2': '마사츠구', 'wrd3_2': '모닝글로리', 'wrd4_2': '모치즈키', 'wrd5_2': '사나에', 'wrd6_2': '소어링', 'wrd7_2': '시구레', 'wrd8_2': '아게하', 'wrd9_2': '아마네', 'wrd10_2': '아오이', 'wrd11_2': '아카리', 'wrd12_2': '에리', 'wrd13_2': '요루', 'wrd14_2': '유카', 'wrd15_2': '카나코', 'wrd16_2': '카자미', 'wrd17_2': '카자토', 'wrd18_2': '카제가우라', 'wrd19_2': '케이후', 'wrd20_2': '코토리', 'wrd21_2': '쿠모이', 'wrd22_2': '토비오카', 'wrd23_2': '하바네', 'wrd24_2': '호타루', 'wrd25_2': '히메기', 'wrd26_2': '히바리'}\n"
          ],
          "name": "stdout"
        }
      ]
    },
    {
      "cell_type": "markdown",
      "metadata": {
        "id": "WEn9DhekzBZT"
      },
      "source": [
        "맞춤법 검사기를 사용하여, 번역된 개별 스크립트와 오류 갯수, 각 형태소별 오류 형태에 대한 결과를 반환합니다."
      ]
    },
    {
      "cell_type": "code",
      "metadata": {
        "id": "UR2AuH4d2afv"
      },
      "source": [
        "from hanspell import spell_checker\n",
        "\n",
        "def spell_check_text(texts):\n",
        "    corpus = []\n",
        "    errors = []\n",
        "    errorinfo = []\n",
        "    for sent in texts:\n",
        "        for lownword in lownword_encode:\n",
        "            sent = sent.replace(lownword, lownword_encode[lownword])\n",
        "        spelled_sent = spell_checker.check(sent)\n",
        "        for lownword in lownword_decode:\n",
        "            checked_decoded = spelled_sent.checked.replace(lownword, lownword_decode[lownword])\n",
        "        corpus.append(checked_decoded)\n",
        "        errors.append(spelled_sent.errors)\n",
        "        errorinfo.append(spelled_sent.words)\n",
        "    return (corpus, errors, errorinfo)"
      ],
      "execution_count": null,
      "outputs": []
    },
    {
      "cell_type": "code",
      "metadata": {
        "id": "su9U2BeX3sQN"
      },
      "source": [
        "(spell_preprocessed_corpus, error_num, spell_error_info) = spell_check_text(sent)"
      ],
      "execution_count": null,
      "outputs": []
    },
    {
      "cell_type": "markdown",
      "metadata": {
        "id": "hVucCpdEzdEa"
      },
      "source": [
        "list에 각 결과를 저장하여 출력할 수 있습니다. <br/>\n",
        "이 때 개별 스크립트는 string, 오류 갯수는 int, 각 형태소별 오류 형태는 collections library의 OrderedDict 형태로 저장합니다. \n"
      ]
    },
    {
      "cell_type": "code",
      "metadata": {
        "colab": {
          "base_uri": "https://localhost:8080/"
        },
        "id": "qT-p19_m3xcl",
        "outputId": "70abf4e8-7a07-4dd1-948d-8e0ee2735eb6"
      },
      "source": [
        "for i in range(0, 10):\n",
        "    print(spell_preprocessed_corpus[i])\n",
        "    print(error_num[i])\n",
        "    print(spell_error_info[i])"
      ],
      "execution_count": null,
      "outputs": [
        {
          "output_type": "stream",
          "text": [
            "「역시 여기 있었구나」\n",
            "0\n",
            "OrderedDict([('「역시', 0), ('여기', 0), ('있었구나」<br>', 0)])\n",
            "「wrd13_2짱」\n",
            "1\n",
            "OrderedDict([('「wrd13_2짱」', 4)])\n",
            "「슬슬 돌아가지 않으면 저녁시간에 늦어?」\n",
            "0\n",
            "OrderedDict([('「슬슬', 0), ('돌아가지', 0), ('않으면', 0), ('저녁시간에', 0), ('늦어?」<br>', 0)])\n",
            "「응……그래도, 앞으로 조금만 더」\n",
            "0\n",
            "OrderedDict([('「응……그래도,', 0), ('앞으로', 0), ('조금만', 0), ('더」<br>', 0)])\n",
            "「기다려도 헛수고야. 이제 나타나지 않아」\n",
            "0\n",
            "OrderedDict([('「기다려도', 0), ('헛수고야.', 0), ('이제', 0), ('나타나지', 0), ('않아」<br>', 0)])\n",
            "「어? 어떻게 아는 거야?」\n",
            "0\n",
            "OrderedDict([('「어?', 0), ('어떻게', 0), ('아는', 0), ('거야?」<br>', 0)])\n",
            "「그 뒤로 한 번도 안 날았잖아. \\n 활주로를 보러 갔었는데, 잡초만 자라고 쓰이는 흔적도 없었어」\n",
            "0\n",
            "OrderedDict([('「그', 0), ('뒤로', 0), ('한', 0), ('번도', 0), ('안', 0), ('날았잖아.', 0), ('\\\\n', 0), ('활주로를', 0), ('보러', 0), ('갔었는데,', 0), ('잡초만', 0), ('자라고', 0), ('쓰이는', 0), ('흔적도', 0), ('없었어」<br>', 0)])\n",
            "「응……하지만」\n",
            "0\n",
            "OrderedDict([('「응……하지만」<br>', 0)])\n",
            "「으―……」\n",
            "0\n",
            "OrderedDict([('「으―……」<br>', 0)])\n",
            "「하아……」\n",
            "0\n",
            "OrderedDict([('「하아……」<br>', 0)])\n"
          ],
          "name": "stdout"
        }
      ]
    },
    {
      "cell_type": "markdown",
      "metadata": {
        "id": "4CqMgckU1394"
      },
      "source": [
        "각 형태소별 오류 형태를 상수 형태로 출력하는데 이가 나타내는 것은 다음과 같습니다. \n",
        "\n",
        "| 상수 | 출력 | 해석\n",
        "|-----|-----|-----|\n",
        "|0|.PASSED|맞춤법 검사 결과 문제가 없는 단어 또는 구절|\n",
        "|1|.WRONG_SPELLING|맞춤법에 문제가 있는 단어 또는 구절|\n",
        "|2|.WRONG_SPACING|띄어쓰기에 문제가 있는 단어 또는 구절|\n",
        "|3|.AMBIGUOUS|표준어가 의심되는 단어 또는 구절|\n",
        "|4|.STATISTICAL_CORRECTION|통계적 교정에 따른 단어 또는 구절|"
      ]
    },
    {
      "cell_type": "markdown",
      "metadata": {
        "id": "hKWRKx0s2Q7f"
      },
      "source": [
        "## 3. Export Data\n",
        "결과를 스프레드시트로 출력하기 위하여 pandas library의 dataframe을 사용하였습니다."
      ]
    },
    {
      "cell_type": "code",
      "metadata": {
        "id": "4QdHxmTFhCGE"
      },
      "source": [
        "import pandas as pd\n",
        "\n",
        "corpus = [sent, spell_preprocessed_corpus,error_num, spell_error_info]\n",
        "df = pd.DataFrame (corpus,index=['original', 'corrected', 'error count',  'error case'])"
      ],
      "execution_count": null,
      "outputs": []
    },
    {
      "cell_type": "code",
      "metadata": {
        "colab": {
          "base_uri": "https://localhost:8080/"
        },
        "id": "tn19n-DFiXlq",
        "outputId": "995785b4-f3e9-4c8b-be32-54b03c4f3dea"
      },
      "source": [
        "print(df.T)"
      ],
      "execution_count": null,
      "outputs": [
        {
          "output_type": "stream",
          "text": [
            "                             original  ...                                         error case\n",
            "0                      「역시 여기 있었구나」\\n  ...                {'「역시': 0, '여기': 0, '있었구나」<br>': 0}\n",
            "1                             「요루쨩」\\n  ...                                  {'「wrd13_2짱」': 4}\n",
            "2           「슬슬 돌아가지 않으면 저녁시간에 늦어?」\\n  ...  {'「슬슬': 0, '돌아가지': 0, '않으면': 0, '저녁시간에': 0, '늦...\n",
            "3               「응……그래도, 앞으로 조금만 더」\\n  ...   {'「응……그래도,': 0, '앞으로': 0, '조금만': 0, '더」<br>': 0}\n",
            "4           「기다려도 헛수고야. 이제 나타나지 않아」\\n  ...  {'「기다려도': 0, '헛수고야.': 0, '이제': 0, '나타나지': 0, '...\n",
            "..                                ...  ...                                                ...\n",
            "771  「자는 동안에 건물이 와르르 무너져 버릴지도 모르겠네」\\n  ...  {'「자는': 0, '동안에': 0, '건물이': 0, '와르르': 0, '무너져'...\n",
            "772                        「히에에에……」\\n  ...    {'<span': 0, 'class='violet_text'>「히에에에……」': 0}\n",
            "773                   「요루쨩, 같이 자자!」\\n  ...       {'「wrd13_2짱,': 4, '같이': 0, '자자!': 2, '」': 2}\n",
            "774                       「어떻게 할까~」\\n  ...                         {'「어떻게': 0, '할까~」<br>': 0}\n",
            "775                           「요루쨩~~」  ...                                {'「wrd13_2짱~~」': 4}\n",
            "\n",
            "[776 rows x 4 columns]\n"
          ],
          "name": "stdout"
        }
      ]
    },
    {
      "cell_type": "code",
      "metadata": {
        "id": "xGGBS7dg5ON4"
      },
      "source": [
        "df.T.to_excel('output.xlsx')"
      ],
      "execution_count": null,
      "outputs": []
    },
    {
      "cell_type": "code",
      "metadata": {
        "colab": {
          "base_uri": "https://localhost:8080/",
          "height": 17
        },
        "id": "cgLguXNEl6OJ",
        "outputId": "f64078c7-1fb2-454e-a27a-e8bf3318d8f9"
      },
      "source": [
        "from google.colab import files\n",
        "files.download(\"output.xlsx\")"
      ],
      "execution_count": null,
      "outputs": [
        {
          "output_type": "display_data",
          "data": {
            "application/javascript": [
              "\n",
              "    async function download(id, filename, size) {\n",
              "      if (!google.colab.kernel.accessAllowed) {\n",
              "        return;\n",
              "      }\n",
              "      const div = document.createElement('div');\n",
              "      const label = document.createElement('label');\n",
              "      label.textContent = `Downloading \"${filename}\": `;\n",
              "      div.appendChild(label);\n",
              "      const progress = document.createElement('progress');\n",
              "      progress.max = size;\n",
              "      div.appendChild(progress);\n",
              "      document.body.appendChild(div);\n",
              "\n",
              "      const buffers = [];\n",
              "      let downloaded = 0;\n",
              "\n",
              "      const channel = await google.colab.kernel.comms.open(id);\n",
              "      // Send a message to notify the kernel that we're ready.\n",
              "      channel.send({})\n",
              "\n",
              "      for await (const message of channel.messages) {\n",
              "        // Send a message to notify the kernel that we're ready.\n",
              "        channel.send({})\n",
              "        if (message.buffers) {\n",
              "          for (const buffer of message.buffers) {\n",
              "            buffers.push(buffer);\n",
              "            downloaded += buffer.byteLength;\n",
              "            progress.value = downloaded;\n",
              "          }\n",
              "        }\n",
              "      }\n",
              "      const blob = new Blob(buffers, {type: 'application/binary'});\n",
              "      const a = document.createElement('a');\n",
              "      a.href = window.URL.createObjectURL(blob);\n",
              "      a.download = filename;\n",
              "      div.appendChild(a);\n",
              "      a.click();\n",
              "      div.remove();\n",
              "    }\n",
              "  "
            ],
            "text/plain": [
              "<IPython.core.display.Javascript object>"
            ]
          },
          "metadata": {
            "tags": []
          }
        },
        {
          "output_type": "display_data",
          "data": {
            "application/javascript": [
              "download(\"download_b38db81f-f665-4f38-aba6-1d687a2193ef\", \"output.xlsx\", 73939)"
            ],
            "text/plain": [
              "<IPython.core.display.Javascript object>"
            ]
          },
          "metadata": {
            "tags": []
          }
        }
      ]
    },
    {
      "cell_type": "markdown",
      "metadata": {
        "id": "2wchXyd8yaiy"
      },
      "source": [
        "\n",
        "\n",
        "***\n",
        "<br/>\n",
        "\n",
        "PyKoSpacing이 성능이 별로 좋지 않아서 구동 부분은 주석처리하였습니다. "
      ]
    },
    {
      "cell_type": "code",
      "metadata": {
        "id": "8CcXTF8CKdb7"
      },
      "source": [
        "# from pykospacing import spacing"
      ],
      "execution_count": null,
      "outputs": []
    },
    {
      "cell_type": "code",
      "metadata": {
        "id": "6OfT50SBMj0b"
      },
      "source": [
        "# spaced_corpus = []\n",
        "# for i in range(0, 10):\n",
        "#     spaced_corpus.append(lines[i].replace(\" \",\"\")) \n",
        "# #    spaced_corpus.append(spacing(lines[i]))\n",
        "#     spaced_corpus[i] = spacing(spaced_corpus[i])"
      ],
      "execution_count": null,
      "outputs": []
    },
    {
      "cell_type": "code",
      "metadata": {
        "id": "ijcGfCP6QLlP"
      },
      "source": [
        "# for i in range(0, 10):\n",
        "#     print(spaced_corpus[i])"
      ],
      "execution_count": null,
      "outputs": []
    },
    {
      "cell_type": "code",
      "metadata": {
        "id": "CUXQRAkQQt9U"
      },
      "source": [
        "# from hanspell import spell_checker\n",
        "\n",
        "# corrected_corpus = []\n",
        "# for i in range(0, len(basic_preprocessed_corpus)-1):\n",
        "#     spelled_sent = spell_checker.check(basic_preprocessed_corpus[i])\n",
        "#     corrected_corpus.append(spelled_sent.checked)"
      ],
      "execution_count": null,
      "outputs": []
    },
    {
      "cell_type": "code",
      "metadata": {
        "colab": {
          "base_uri": "https://localhost:8080/"
        },
        "id": "i2vpjT4li7RF",
        "outputId": "73977c6b-d51c-4ebf-ab26-a63849836d60"
      },
      "source": [
        "# for i in range(0, len(basic_preprocessed_corpus)-1):\n",
        "#     print(corrected_corpus[i])"
      ],
      "execution_count": null,
      "outputs": [
        {
          "output_type": "stream",
          "text": [
            "사람 이름은 맞춤법 검사가 잘 되려나? \n",
            "안녕하세요 저는 민수에요. \n",
            "유 민수이고요, 옆은 김 영희예요.\n",
            "randnm1이 이 짐을 들어줄 수 있어? \n",
            "randnm1가 이 짐을 들어줄 수 있어? \n",
            "randnm1은 힘이 세구나. \n",
            "randnm1은 힘이 세구나. \n",
            "randnm1을 좋아하게 되어 버렸어. \n",
            "randnm1을 좋아하게 되어 버렸어. \n",
            "randnm2가 이 짐을 들어줄 수 있어? \n",
            "randnm2가 이 짐을 들어줄 수 있어? \n",
            "randnm2는 힘이 세구나. \n",
            "randnm2는 힘이 세구나. \n",
            "randnm2를 좋아하게 되어 버렸어. \n",
            "randnm2를 좋아하게 되어 버렸어. \n",
            "저 새는 날 수 있어? \n"
          ],
          "name": "stdout"
        }
      ]
    },
    {
      "cell_type": "code",
      "metadata": {
        "colab": {
          "base_uri": "https://localhost:8080/"
        },
        "id": "-puYQxcgjTNL",
        "outputId": "1efa088c-5826-4f18-b783-de752c7f439c"
      },
      "source": [
        "# spelled_sent = spell_checker.check(\"저 새가 하늘로 하는 날이 올까?\")\n",
        "# print(spelled_sent.errors)\n",
        "# print(spelled_sent.words)"
      ],
      "execution_count": null,
      "outputs": [
        {
          "output_type": "stream",
          "text": [
            "0\n",
            "OrderedDict([('저', 0), ('새가', 0), ('하늘로', 0), ('하는', 0), ('날이', 0), ('올까?', 0)])\n"
          ],
          "name": "stdout"
        }
      ]
    },
    {
      "cell_type": "code",
      "metadata": {
        "id": "Y1BLb4b9jU5J",
        "colab": {
          "base_uri": "https://localhost:8080/"
        },
        "outputId": "cea7822f-afa9-447e-b12f-294fdeb6ce2e"
      },
      "source": [
        "# type(spelled_sent.words)"
      ],
      "execution_count": null,
      "outputs": [
        {
          "output_type": "execute_result",
          "data": {
            "text/plain": [
              "collections.OrderedDict"
            ]
          },
          "metadata": {
            "tags": []
          },
          "execution_count": 56
        }
      ]
    },
    {
      "cell_type": "code",
      "metadata": {
        "id": "-BbctE2SJ689"
      },
      "source": [
        "# !curl -c ./cookie -s -L \"https://drive.google.com/uc?export=download&id=1RNYpLE-xbMCGtiEHIoNsCmfcyJP3kLYn\" > /dev/null\n",
        "# !curl -Lb ./cookie \"https://drive.google.com/uc?export=download&confirm=`awk '/download/ {print $NF}' ./cookie`&id=1RNYpLE-xbMCGtiEHIoNsCmfcyJP3kLYn\" -o confused_loanwords.txt"
      ],
      "execution_count": null,
      "outputs": []
    }
  ]
}