{
  "nbformat": 4,
  "nbformat_minor": 0,
  "metadata": {
    "colab": {
      "name": "JPTextImage.ipynb",
      "provenance": [],
      "collapsed_sections": [],
      "mount_file_id": "1O4rq057ttEkRjrH8B2NKolRojPELmnsE",
      "authorship_tag": "ABX9TyM4jdYv0NyvYjuLRveaOYjn",
      "include_colab_link": true
    },
    "kernelspec": {
      "display_name": "Python 3",
      "name": "python3"
    }
  },
  "cells": [
    {
      "cell_type": "markdown",
      "metadata": {
        "id": "view-in-github",
        "colab_type": "text"
      },
      "source": [
        "<a href=\"https://colab.research.google.com/github/jyjoon001/regex/blob/main/JPTextImage.ipynb\" target=\"_parent\"><img src=\"https://colab.research.google.com/assets/colab-badge.svg\" alt=\"Open In Colab\"/></a>"
      ]
    },
    {
      "cell_type": "markdown",
      "metadata": {
        "id": "GSoW8pkYv_QJ"
      },
      "source": [
        "# JPTextImage\n",
        "Boolean Classification of Japanese Characters from Image using Tesseract OCR.\n",
        "> @tobisawa"
      ]
    },
    {
      "cell_type": "code",
      "metadata": {
        "colab": {
          "base_uri": "https://localhost:8080/"
        },
        "id": "kOzQY0fKv98M",
        "outputId": "79a70980-406e-4528-bc86-e025d1e594b6"
      },
      "source": [
        "from google.colab import drive\n",
        "drive.mount('/content/drive')"
      ],
      "execution_count": null,
      "outputs": [
        {
          "output_type": "stream",
          "text": [
            "Drive already mounted at /content/drive; to attempt to forcibly remount, call drive.mount(\"/content/drive\", force_remount=True).\n"
          ],
          "name": "stdout"
        }
      ]
    },
    {
      "cell_type": "code",
      "metadata": {
        "colab": {
          "base_uri": "https://localhost:8080/"
        },
        "id": "8d4nGspEwh3Z",
        "outputId": "60c50852-0670-420d-fc48-1ec229300718"
      },
      "source": [
        "!pip install pytesseract\n",
        "!sudo apt install tesseract-ocr \n",
        "!sudo apt install tesseract-ocr-jpn \n",
        "!sudo apt install tesseract-ocr-jpn-vert "
      ],
      "execution_count": null,
      "outputs": [
        {
          "output_type": "stream",
          "text": [
            "Collecting pytesseract\n",
            "  Downloading https://files.pythonhosted.org/packages/a0/e6/a4e9fc8a93c1318540e8de6d8d4beb5749b7960388a7c7f27799fc2dd016/pytesseract-0.3.7.tar.gz\n",
            "Requirement already satisfied: Pillow in /usr/local/lib/python3.7/dist-packages (from pytesseract) (7.0.0)\n",
            "Building wheels for collected packages: pytesseract\n",
            "  Building wheel for pytesseract (setup.py) ... \u001b[?25l\u001b[?25hdone\n",
            "  Created wheel for pytesseract: filename=pytesseract-0.3.7-py2.py3-none-any.whl size=13945 sha256=3d225eda21b094dea1b810c377450fcf6ac48dc4c5a78fad469c059769577fbf\n",
            "  Stored in directory: /root/.cache/pip/wheels/81/20/7e/1dd0daad1575d5260916bb1e9781246430647adaef4b3ca3b3\n",
            "Successfully built pytesseract\n",
            "Installing collected packages: pytesseract\n",
            "Successfully installed pytesseract-0.3.7\n",
            "Reading package lists... Done\n",
            "Building dependency tree       \n",
            "Reading state information... Done\n",
            "The following additional packages will be installed:\n",
            "  tesseract-ocr-eng tesseract-ocr-osd\n",
            "The following NEW packages will be installed:\n",
            "  tesseract-ocr tesseract-ocr-eng tesseract-ocr-osd\n",
            "0 upgraded, 3 newly installed, 0 to remove and 29 not upgraded.\n",
            "Need to get 4,795 kB of archives.\n",
            "After this operation, 15.8 MB of additional disk space will be used.\n",
            "Get:1 http://archive.ubuntu.com/ubuntu bionic/universe amd64 tesseract-ocr-eng all 4.00~git24-0e00fe6-1.2 [1,588 kB]\n",
            "Get:2 http://archive.ubuntu.com/ubuntu bionic/universe amd64 tesseract-ocr-osd all 4.00~git24-0e00fe6-1.2 [2,989 kB]\n",
            "Get:3 http://archive.ubuntu.com/ubuntu bionic/universe amd64 tesseract-ocr amd64 4.00~git2288-10f4998a-2 [218 kB]\n",
            "Fetched 4,795 kB in 1s (3,708 kB/s)\n",
            "debconf: unable to initialize frontend: Dialog\n",
            "debconf: (No usable dialog-like program is installed, so the dialog based frontend cannot be used. at /usr/share/perl5/Debconf/FrontEnd/Dialog.pm line 76, <> line 3.)\n",
            "debconf: falling back to frontend: Readline\n",
            "debconf: unable to initialize frontend: Readline\n",
            "debconf: (This frontend requires a controlling tty.)\n",
            "debconf: falling back to frontend: Teletype\n",
            "dpkg-preconfigure: unable to re-open stdin: \n",
            "Selecting previously unselected package tesseract-ocr-eng.\n",
            "(Reading database ... 160975 files and directories currently installed.)\n",
            "Preparing to unpack .../tesseract-ocr-eng_4.00~git24-0e00fe6-1.2_all.deb ...\n",
            "Unpacking tesseract-ocr-eng (4.00~git24-0e00fe6-1.2) ...\n",
            "Selecting previously unselected package tesseract-ocr-osd.\n",
            "Preparing to unpack .../tesseract-ocr-osd_4.00~git24-0e00fe6-1.2_all.deb ...\n",
            "Unpacking tesseract-ocr-osd (4.00~git24-0e00fe6-1.2) ...\n",
            "Selecting previously unselected package tesseract-ocr.\n",
            "Preparing to unpack .../tesseract-ocr_4.00~git2288-10f4998a-2_amd64.deb ...\n",
            "Unpacking tesseract-ocr (4.00~git2288-10f4998a-2) ...\n",
            "Setting up tesseract-ocr-osd (4.00~git24-0e00fe6-1.2) ...\n",
            "Setting up tesseract-ocr-eng (4.00~git24-0e00fe6-1.2) ...\n",
            "Setting up tesseract-ocr (4.00~git2288-10f4998a-2) ...\n",
            "Processing triggers for man-db (2.8.3-2ubuntu0.1) ...\n",
            "Reading package lists... Done\n",
            "Building dependency tree       \n",
            "Reading state information... Done\n",
            "The following NEW packages will be installed:\n",
            "  tesseract-ocr-jpn\n",
            "0 upgraded, 1 newly installed, 0 to remove and 29 not upgraded.\n",
            "Need to get 1,389 kB of archives.\n",
            "After this operation, 2,486 kB of additional disk space will be used.\n",
            "Get:1 http://archive.ubuntu.com/ubuntu bionic/universe amd64 tesseract-ocr-jpn all 4.00~git24-0e00fe6-1.2 [1,389 kB]\n",
            "Fetched 1,389 kB in 1s (1,412 kB/s)\n",
            "debconf: unable to initialize frontend: Dialog\n",
            "debconf: (No usable dialog-like program is installed, so the dialog based frontend cannot be used. at /usr/share/perl5/Debconf/FrontEnd/Dialog.pm line 76, <> line 1.)\n",
            "debconf: falling back to frontend: Readline\n",
            "debconf: unable to initialize frontend: Readline\n",
            "debconf: (This frontend requires a controlling tty.)\n",
            "debconf: falling back to frontend: Teletype\n",
            "dpkg-preconfigure: unable to re-open stdin: \n",
            "Selecting previously unselected package tesseract-ocr-jpn.\n",
            "(Reading database ... 161022 files and directories currently installed.)\n",
            "Preparing to unpack .../tesseract-ocr-jpn_4.00~git24-0e00fe6-1.2_all.deb ...\n",
            "Unpacking tesseract-ocr-jpn (4.00~git24-0e00fe6-1.2) ...\n",
            "Setting up tesseract-ocr-jpn (4.00~git24-0e00fe6-1.2) ...\n",
            "Reading package lists... Done\n",
            "Building dependency tree       \n",
            "Reading state information... Done\n",
            "The following NEW packages will be installed:\n",
            "  tesseract-ocr-jpn-vert\n",
            "0 upgraded, 1 newly installed, 0 to remove and 29 not upgraded.\n",
            "Need to get 1,888 kB of archives.\n",
            "After this operation, 3,053 kB of additional disk space will be used.\n",
            "Get:1 http://archive.ubuntu.com/ubuntu bionic/universe amd64 tesseract-ocr-jpn-vert all 4.00~git24-0e00fe6-1.2 [1,888 kB]\n",
            "Fetched 1,888 kB in 1s (1,780 kB/s)\n",
            "debconf: unable to initialize frontend: Dialog\n",
            "debconf: (No usable dialog-like program is installed, so the dialog based frontend cannot be used. at /usr/share/perl5/Debconf/FrontEnd/Dialog.pm line 76, <> line 1.)\n",
            "debconf: falling back to frontend: Readline\n",
            "debconf: unable to initialize frontend: Readline\n",
            "debconf: (This frontend requires a controlling tty.)\n",
            "debconf: falling back to frontend: Teletype\n",
            "dpkg-preconfigure: unable to re-open stdin: \n",
            "Selecting previously unselected package tesseract-ocr-jpn-vert.\n",
            "(Reading database ... 161026 files and directories currently installed.)\n",
            "Preparing to unpack .../tesseract-ocr-jpn-vert_4.00~git24-0e00fe6-1.2_all.deb ...\n",
            "Unpacking tesseract-ocr-jpn-vert (4.00~git24-0e00fe6-1.2) ...\n",
            "Setting up tesseract-ocr-jpn-vert (4.00~git24-0e00fe6-1.2) ...\n"
          ],
          "name": "stdout"
        }
      ]
    },
    {
      "cell_type": "code",
      "metadata": {
        "id": "lu6HON_U0ZqH"
      },
      "source": [
        "try:\n",
        " from PIL import Image\n",
        "except ImportError:\n",
        " import Image\n",
        "import cv2\n",
        "import pytesseract\n",
        "import os\n",
        "import glob\n",
        "import re\n",
        "import shutil\n",
        "import pandas as pd"
      ],
      "execution_count": null,
      "outputs": []
    },
    {
      "cell_type": "code",
      "metadata": {
        "colab": {
          "base_uri": "https://localhost:8080/"
        },
        "id": "oRf34JNx0sM1",
        "outputId": "4cbedde1-0274-41ba-858c-3e407c556e0e"
      },
      "source": [
        "!which tesseract\n",
        "pytesseract.pytesseract.tesseract_cmd = (r'/usr/bin/tesseract')"
      ],
      "execution_count": null,
      "outputs": [
        {
          "output_type": "stream",
          "text": [
            "/usr/bin/tesseract\n"
          ],
          "name": "stdout"
        }
      ]
    },
    {
      "cell_type": "code",
      "metadata": {
        "colab": {
          "base_uri": "https://localhost:8080/"
        },
        "id": "i3Zz9h7Z1gLE",
        "outputId": "b3ac31a7-00b7-4da8-d6ef-51e4872bffdb"
      },
      "source": [
        "filedir = glob.glob(r'/content/drive/MyDrive/JPTextImage/sysgrp~.arc/*.png')\n",
        "print(filedir)"
      ],
      "execution_count": null,
      "outputs": [
        {
          "output_type": "stream",
          "text": [
            "['/content/drive/MyDrive/JPTextImage/sysgrp~.arc/SGUsDtWnd000003.png', '/content/drive/MyDrive/JPTextImage/sysgrp~.arc/SGUsDtWnd100100.png', '/content/drive/MyDrive/JPTextImage/sysgrp~.arc/SGUsDtWnd200200.png', '/content/drive/MyDrive/JPTextImage/sysgrp~.arc/SGUsDtWnd900100.png', '/content/drive/MyDrive/JPTextImage/sysgrp~.arc/SGUsDtWnd000000.png', '/content/drive/MyDrive/JPTextImage/sysgrp~.arc/SGUsDtWnd100200.png', '/content/drive/MyDrive/JPTextImage/sysgrp~.arc/SGUsDtWnd000008.png', '/content/drive/MyDrive/JPTextImage/sysgrp~.arc/SGUsDtWnd000007.png', '/content/drive/MyDrive/JPTextImage/sysgrp~.arc/SGUsDtWnd200600.png', '/content/drive/MyDrive/JPTextImage/sysgrp~.arc/SGUsDtWnd200000.png', '/content/drive/MyDrive/JPTextImage/sysgrp~.arc/SGUsDtWnd000009.png', '/content/drive/MyDrive/JPTextImage/sysgrp~.arc/SGUsDtWnd000004.png', '/content/drive/MyDrive/JPTextImage/sysgrp~.arc/SGUsDtWnd900000.png', '/content/drive/MyDrive/JPTextImage/sysgrp~.arc/SGUsDtWnd000005.png', '/content/drive/MyDrive/JPTextImage/sysgrp~.arc/SGUsDtWnd100000.png', '/content/drive/MyDrive/JPTextImage/sysgrp~.arc/SGUsDtWnd000001.png', '/content/drive/MyDrive/JPTextImage/sysgrp~.arc/SGUsDtWnd000006.png', '/content/drive/MyDrive/JPTextImage/sysgrp~.arc/SGUsDtWnd200300.png', '/content/drive/MyDrive/JPTextImage/sysgrp~.arc/SGUsDtWnd100300.png', '/content/drive/MyDrive/JPTextImage/sysgrp~.arc/SGUsDtWnd200400.png', '/content/drive/MyDrive/JPTextImage/sysgrp~.arc/SGUsDtWnd200500.png', '/content/drive/MyDrive/JPTextImage/sysgrp~.arc/SGUsDtWnd000002.png', '/content/drive/MyDrive/JPTextImage/sysgrp~.arc/SGUsDtWnd200100.png', '/content/drive/MyDrive/JPTextImage/sysgrp~.arc/SGTitle000300.png', '/content/drive/MyDrive/JPTextImage/sysgrp~.arc/SGCG100000.png', '/content/drive/MyDrive/JPTextImage/sysgrp~.arc/SGMusic001000.png', '/content/drive/MyDrive/JPTextImage/sysgrp~.arc/SGMusic004200.png', '/content/drive/MyDrive/JPTextImage/sysgrp~.arc/SGMusic000800.png', '/content/drive/MyDrive/JPTextImage/sysgrp~.arc/SGMsgWnd800006.png', '/content/drive/MyDrive/JPTextImage/sysgrp~.arc/SGDialog990001.png', '/content/drive/MyDrive/JPTextImage/sysgrp~.arc/SGMsgWnd000500.png', '/content/drive/MyDrive/JPTextImage/sysgrp~.arc/SGCnfgWnd200200.png', '/content/drive/MyDrive/JPTextImage/sysgrp~.arc/SGMsgWnd000100.png', '/content/drive/MyDrive/JPTextImage/sysgrp~.arc/SGLogWnd010100.png', '/content/drive/MyDrive/JPTextImage/sysgrp~.arc/SGCG990000.png', '/content/drive/MyDrive/JPTextImage/sysgrp~.arc/SGMusic001900.png', '/content/drive/MyDrive/JPTextImage/sysgrp~.arc/SGTitle000600.png', '/content/drive/MyDrive/JPTextImage/sysgrp~.arc/SGMusic002500.png', '/content/drive/MyDrive/JPTextImage/sysgrp~.arc/SGCnfgWnd100400.png', '/content/drive/MyDrive/JPTextImage/sysgrp~.arc/SGDialog990006.png', '/content/drive/MyDrive/JPTextImage/sysgrp~.arc/SGMusic003900.png', '/content/drive/MyDrive/JPTextImage/sysgrp~.arc/SGCnfgWnd050100.png', '/content/drive/MyDrive/JPTextImage/sysgrp~.arc/SGDialog990007.png', '/content/drive/MyDrive/JPTextImage/sysgrp~.arc/SGMsgWnd800003.png', '/content/drive/MyDrive/JPTextImage/sysgrp~.arc/SGCnfgWnd200000.png', '/content/drive/MyDrive/JPTextImage/sysgrp~.arc/SGCnfgWnd030100.png', '/content/drive/MyDrive/JPTextImage/sysgrp~.arc/SGMusic004000.png', '/content/drive/MyDrive/JPTextImage/sysgrp~.arc/SGMsgWnd000700.png', '/content/drive/MyDrive/JPTextImage/sysgrp~.arc/SGTitle001100.png', '/content/drive/MyDrive/JPTextImage/sysgrp~.arc/SGTitle000200.png', '/content/drive/MyDrive/JPTextImage/sysgrp~.arc/SGMusic000900.png', '/content/drive/MyDrive/JPTextImage/sysgrp~.arc/SGCnfgWnd040000.png', '/content/drive/MyDrive/JPTextImage/sysgrp~.arc/SGMusic001300.png', '/content/drive/MyDrive/JPTextImage/sysgrp~.arc/SGLogWnd100000.png', '/content/drive/MyDrive/JPTextImage/sysgrp~.arc/SGMusic000300.png', '/content/drive/MyDrive/JPTextImage/sysgrp~.arc/SGMusic001600.png', '/content/drive/MyDrive/JPTextImage/sysgrp~.arc/SGMsgWnd990100.png', '/content/drive/MyDrive/JPTextImage/sysgrp~.arc/SGCnfgWnd110000.png', '/content/drive/MyDrive/JPTextImage/sysgrp~.arc/SGCG990001.png', '/content/drive/MyDrive/JPTextImage/sysgrp~.arc/SGCnfgWnd000000.png', '/content/drive/MyDrive/JPTextImage/sysgrp~.arc/SGDialog000000.png', '/content/drive/MyDrive/JPTextImage/sysgrp~.arc/SGDialog990003.png', '/content/drive/MyDrive/JPTextImage/sysgrp~.arc/SGCnfgWnd100000.png', '/content/drive/MyDrive/JPTextImage/sysgrp~.arc/SGMsgWnd800001.png', '/content/drive/MyDrive/JPTextImage/sysgrp~.arc/SGCnfgWnd100100.png', '/content/drive/MyDrive/JPTextImage/sysgrp~.arc/SGCnfgWnd990000.png', '/content/drive/MyDrive/JPTextImage/sysgrp~.arc/SGCnfgWnd100200.png', '/content/drive/MyDrive/JPTextImage/sysgrp~.arc/SGMusic000500.png', '/content/drive/MyDrive/JPTextImage/sysgrp~.arc/SGMusic001700.png', '/content/drive/MyDrive/JPTextImage/sysgrp~.arc/SGLogWnd200000.png', '/content/drive/MyDrive/JPTextImage/sysgrp~.arc/SGMusic000100.png', '/content/drive/MyDrive/JPTextImage/sysgrp~.arc/SGMusic004100.png', '/content/drive/MyDrive/JPTextImage/sysgrp~.arc/SGCnfgWnd030000.png', '/content/drive/MyDrive/JPTextImage/sysgrp~.arc/SGCnfgWnd050000.png', '/content/drive/MyDrive/JPTextImage/sysgrp~.arc/SGMsgWnd000000.png', '/content/drive/MyDrive/JPTextImage/sysgrp~.arc/SGMusic002400.png', '/content/drive/MyDrive/JPTextImage/sysgrp~.arc/SGMsgWnd800005.png', '/content/drive/MyDrive/JPTextImage/sysgrp~.arc/SGCnfgWnd010100.png', '/content/drive/MyDrive/JPTextImage/sysgrp~.arc/SGMsgWnd800008.png', '/content/drive/MyDrive/JPTextImage/sysgrp~.arc/SGMsgWnd800007.png', '/content/drive/MyDrive/JPTextImage/sysgrp~.arc/SGLogWnd990000.png', '/content/drive/MyDrive/JPTextImage/sysgrp~.arc/SGCnfgWnd200100.png', '/content/drive/MyDrive/JPTextImage/sysgrp~.arc/SGMsgWnd800000.png', '/content/drive/MyDrive/JPTextImage/sysgrp~.arc/SGMusic002300.png', '/content/drive/MyDrive/JPTextImage/sysgrp~.arc/SGMsgWnd990000.png', '/content/drive/MyDrive/JPTextImage/sysgrp~.arc/SGCnfgWnd110100.png', '/content/drive/MyDrive/JPTextImage/sysgrp~.arc/SGCnfgWnd060000.png', '/content/drive/MyDrive/JPTextImage/sysgrp~.arc/SGMusic000400.png', '/content/drive/MyDrive/JPTextImage/sysgrp~.arc/SGTitle000900.png', '/content/drive/MyDrive/JPTextImage/sysgrp~.arc/SGMusic003300.png', '/content/drive/MyDrive/JPTextImage/sysgrp~.arc/SGTitle000000.png', '/content/drive/MyDrive/JPTextImage/sysgrp~.arc/SGMusic001800.png', '/content/drive/MyDrive/JPTextImage/sysgrp~.arc/SGDialog990005.png', '/content/drive/MyDrive/JPTextImage/sysgrp~.arc/SGUsDtWnd990100.png', '/content/drive/MyDrive/JPTextImage/sysgrp~.arc/SGCG800001.png', '/content/drive/MyDrive/JPTextImage/sysgrp~.arc/SGMsgWnd000300.png', '/content/drive/MyDrive/JPTextImage/sysgrp~.arc/SGMusic002700.png', '/content/drive/MyDrive/JPTextImage/sysgrp~.arc/SGMusic003600.png', '/content/drive/MyDrive/JPTextImage/sysgrp~.arc/SGMusic002600.png', '/content/drive/MyDrive/JPTextImage/sysgrp~.arc/SGMusic001200.png', '/content/drive/MyDrive/JPTextImage/sysgrp~.arc/SGMsgWnd800004.png', '/content/drive/MyDrive/JPTextImage/sysgrp~.arc/SGCG800000.png', '/content/drive/MyDrive/JPTextImage/sysgrp~.arc/SGMusic003800.png', '/content/drive/MyDrive/JPTextImage/sysgrp~.arc/SGCnfgWnd060100.png', '/content/drive/MyDrive/JPTextImage/sysgrp~.arc/SGLogWnd990100.png', '/content/drive/MyDrive/JPTextImage/sysgrp~.arc/SGMusic002200.png', '/content/drive/MyDrive/JPTextImage/sysgrp~.arc/SGUsDtWnd990000.png', '/content/drive/MyDrive/JPTextImage/sysgrp~.arc/SGMsgWnd000600.png', '/content/drive/MyDrive/JPTextImage/sysgrp~.arc/SGTitle000100.png', '/content/drive/MyDrive/JPTextImage/sysgrp~.arc/SGMusic002800.png', '/content/drive/MyDrive/JPTextImage/sysgrp~.arc/SGMsgWnd800009.png', '/content/drive/MyDrive/JPTextImage/sysgrp~.arc/SGMusic002900.png', '/content/drive/MyDrive/JPTextImage/sysgrp~.arc/SGMusic001100.png', '/content/drive/MyDrive/JPTextImage/sysgrp~.arc/SGTitle000500.png', '/content/drive/MyDrive/JPTextImage/sysgrp~.arc/SGMusic003000.png', '/content/drive/MyDrive/JPTextImage/sysgrp~.arc/SGMusic003400.png', '/content/drive/MyDrive/JPTextImage/sysgrp~.arc/SGLogWnd000000.png', '/content/drive/MyDrive/JPTextImage/sysgrp~.arc/SGMusic003700.png', '/content/drive/MyDrive/JPTextImage/sysgrp~.arc/SGMsgWnd000200.png', '/content/drive/MyDrive/JPTextImage/sysgrp~.arc/SGLogWnd000100.png', '/content/drive/MyDrive/JPTextImage/sysgrp~.arc/SGCnfgWnd100500.png', '/content/drive/MyDrive/JPTextImage/sysgrp~.arc/SGMusic000600.png', '/content/drive/MyDrive/JPTextImage/sysgrp~.arc/SGDialog000100.png', '/content/drive/MyDrive/JPTextImage/sysgrp~.arc/SGMsgWnd000800.png', '/content/drive/MyDrive/JPTextImage/sysgrp~.arc/SGMusic000700.png', '/content/drive/MyDrive/JPTextImage/sysgrp~.arc/SGMsgWnd000900.png', '/content/drive/MyDrive/JPTextImage/sysgrp~.arc/SGCnfgWnd020000.png', '/content/drive/MyDrive/JPTextImage/sysgrp~.arc/SGMusic003100.png', '/content/drive/MyDrive/JPTextImage/sysgrp~.arc/SGLogWnd010000.png', '/content/drive/MyDrive/JPTextImage/sysgrp~.arc/SGMusic990000.png', '/content/drive/MyDrive/JPTextImage/sysgrp~.arc/SGMusic001500.png', '/content/drive/MyDrive/JPTextImage/sysgrp~.arc/SGCG000400.png', '/content/drive/MyDrive/JPTextImage/sysgrp~.arc/SGCnfgWnd100300.png', '/content/drive/MyDrive/JPTextImage/sysgrp~.arc/SGMusic003500.png', '/content/drive/MyDrive/JPTextImage/sysgrp~.arc/SGCnfgWnd040100.png', '/content/drive/MyDrive/JPTextImage/sysgrp~.arc/SGDialog990000.png', '/content/drive/MyDrive/JPTextImage/sysgrp~.arc/SGMusic000200.png', '/content/drive/MyDrive/JPTextImage/sysgrp~.arc/SGCG000200.png', '/content/drive/MyDrive/JPTextImage/sysgrp~.arc/SGTitle000800.png', '/content/drive/MyDrive/JPTextImage/sysgrp~.arc/SGCG000300.png', '/content/drive/MyDrive/JPTextImage/sysgrp~.arc/SGMusic001400.png', '/content/drive/MyDrive/JPTextImage/sysgrp~.arc/SGMusic002000.png', '/content/drive/MyDrive/JPTextImage/sysgrp~.arc/SGTitle990000.png', '/content/drive/MyDrive/JPTextImage/sysgrp~.arc/SGTitle001000.png', '/content/drive/MyDrive/JPTextImage/sysgrp~.arc/SGMsgWnd900000.png', '/content/drive/MyDrive/JPTextImage/sysgrp~.arc/SGMusic002100.png', '/content/drive/MyDrive/JPTextImage/sysgrp~.arc/SGMsgWnd000400.png', '/content/drive/MyDrive/JPTextImage/sysgrp~.arc/SGTitle000700.png', '/content/drive/MyDrive/JPTextImage/sysgrp~.arc/SGCG000000.png', '/content/drive/MyDrive/JPTextImage/sysgrp~.arc/SGTitle000400.png', '/content/drive/MyDrive/JPTextImage/sysgrp~.arc/SGCnfgWnd010000.png', '/content/drive/MyDrive/JPTextImage/sysgrp~.arc/SGCG000100.png', '/content/drive/MyDrive/JPTextImage/sysgrp~.arc/SGMusic003200.png', '/content/drive/MyDrive/JPTextImage/sysgrp~.arc/SGCnfgWnd020100.png', '/content/drive/MyDrive/JPTextImage/sysgrp~.arc/SGDialog990002.png', '/content/drive/MyDrive/JPTextImage/sysgrp~.arc/SGMsgWnd800002.png']\n"
          ],
          "name": "stdout"
        }
      ]
    },
    {
      "cell_type": "code",
      "metadata": {
        "colab": {
          "base_uri": "https://localhost:8080/"
        },
        "id": "3bjPNjbm7wfQ",
        "outputId": "3ef6a64b-22a4-4763-ff22-d9d75d64508f"
      },
      "source": [
        "if os.path.isdir('/content/JPTextImage/textTrue') is True:\n",
        "    print('path found.')\n",
        "else:\n",
        "    print('path not found, create directories.')\n",
        "    os.mkdir('/content/JPTextImage')\n",
        "    os.mkdir('/content/JPTextImage/textTrue')\n",
        "    os.mkdir('/content/JPTextImage/textFalse')\n",
        "%cd /content/JPTextImage/"
      ],
      "execution_count": null,
      "outputs": [
        {
          "output_type": "stream",
          "text": [
            "path not found, create directories.\n",
            "/content/JPTextImage\n"
          ],
          "name": "stdout"
        }
      ]
    },
    {
      "cell_type": "code",
      "metadata": {
        "id": "kWU-MVboBX7n"
      },
      "source": [
        "custom_config = r'--oem 1 --psm 3'\n",
        "# custom_config = r'--oem 1 --psm 12'"
      ],
      "execution_count": null,
      "outputs": []
    },
    {
      "cell_type": "code",
      "metadata": {
        "id": "FK8dEwMR1rb6"
      },
      "source": [
        "def clean_text(text):\n",
        "    for sentemp in text:\n",
        "        pattern = '\\x0c' # FFの除去\n",
        "        text = re.sub(pattern=pattern, repl='', string=text)\n",
        "        pattern = ' ' # 半角空白の除去\n",
        "        text = re.sub(pattern=pattern, repl='', string=text)\n",
        "        pattern = '　' # 全角空白の除去\n",
        "        text = re.sub(pattern=pattern, repl='', string=text)\n",
        "        pattern = '\\n'\n",
        "        text = re.sub(pattern=pattern, repl='', string=text)\n",
        "    return text    "
      ],
      "execution_count": null,
      "outputs": []
    },
    {
      "cell_type": "code",
      "metadata": {
        "id": "84XmXtHxy0ws"
      },
      "source": [
        "res = []\n",
        "logs = []\n",
        "for i in range(0, len(filedir)-1):\n",
        "    jp_sample = pytesseract.image_to_string(cv2.imread(filedir[i]), lang='jpn', config=custom_config)\n",
        "    res.append(clean_text(jp_sample))\n",
        "    if bool(re.match(re.escape(res[i]),'')) is True:\n",
        "      shutil.copy2(filedir[i], '/content/JPTextImage/textFalse')\n",
        "      logs.append('0')\n",
        "    else:\n",
        "      shutil.copy2(filedir[i], '/content/JPTextImage/textTrue')\n",
        "      logs.append('1')"
      ],
      "execution_count": null,
      "outputs": []
    },
    {
      "cell_type": "code",
      "metadata": {
        "id": "XCljGQmoDfkO"
      },
      "source": [
        "def make_archive(source, destination):\n",
        "        base = os.path.basename(destination)\n",
        "        name = base.split('.')[0]\n",
        "        format = base.split('.')[1]\n",
        "        archive_from = os.path.dirname(source)\n",
        "        archive_to = os.path.basename(source.strip(os.sep))\n",
        "        shutil.make_archive(name, format, archive_from, archive_to)\n",
        "        shutil.move('%s.%s'%(name,format), destination)"
      ],
      "execution_count": null,
      "outputs": []
    },
    {
      "cell_type": "code",
      "metadata": {
        "colab": {
          "base_uri": "https://localhost:8080/"
        },
        "id": "xAgC28kR1mCG",
        "outputId": "e7d5a1ac-3a4c-408e-d7a2-904a654fb722"
      },
      "source": [
        "print(res)"
      ],
      "execution_count": null,
      "outputs": [
        {
          "output_type": "stream",
          "text": [
            "['', '', '', '', '', '', '', '', 'SaveSave', 'Toad', '', '', '', '', '|人半En、S導記Previous:蘭3PreV1OUB|Previouns「_PrevionsreviousTPreviousreVious1So才は入ら【流', '', '', '', '', 'Moveた。Move|Move|MoveMove', '', '', 'BackBackBackBack。', 'EXit', '', '瞬間を閉じこめた水遠晃間を閉じこめた水遠党瞬間を閉じこめた永遠', '銘い上がる因果交流舞い上がる因果交流某銘い上がる因果交流', '呼吸の様に筆は踊る呼吸の様に筆は踊る芝呼吸の様に筆は踊る', '', '人4タイトルに戻', '', 'BackBackBacksBack還証', '', '', '', '心象の中の人兆心象の中の兆茶心象の中の光', '', 'バカはパカのごとくに現れるバカはバカのごとくに現れる茶バカはパカのごとくに現れる', '', '', '透明な自い日党穫明な白い日党栄和途明な白い日党', 'するするするする', '', '', 'Reset上Reset還Reeet還にSS', 'するするするする', '美しい音色で世界が鳴った美しい音色で世界が鳴った栄美しい音色で世界が鳴った', '', 'MI', '', '夜の流れはゆっくりと夜の流れはゆっくりと栄和夜の流れはゆっくりと', 'DNCないなUPな2', '優雅な音階侯雅な音階芝優雅な間階', '', '陽射し入る窓陽射し入る窓芝陽射し入る窓', '模型模型系)横型', '', 'ンコ', '', '', 'Yes目|Yes', 'セーブデータを上書きし8', '', '', '', '文字表示速度オートモード速度ウィンドウ不透明度画面モード変更既読スキップ選択肢後のスキップ継続選択肢後のオートモード継続画面切り替えの明間表示クリック時の音声引き継ぎ叶員回軍一ざざ<せ', '', '花弁となり桜は大いに歌う花弁となり桜は大いに歌う某。花弁となり桜は大いに歌う', '真っ赤な真実真っ赤な真実', '', '舞い上がる因果交流のひかり舞い上がる因果交流のひかり芝舞い上がる因果交流のひかり', '風の筆射す春日花抄風の筆射す春日花抄常風の筆射す春日花抄', 'DNCないなUPな2', 'DNCないなUPな2', '', '数秒交差数秒交差', '', 'ジルスクリーンラルスクリーンアルスクリーンルスクリーン', '', '', '', '5-。Tide26Tide。にTiHeにHide', 'オートモードを開始します', 'ざくぎくと散る錆びた夢ざくぎくと散る錆びた爵芝ざくぎくと散る錆びた夢', '', '', 'DNCないなUPな2', 'ジムノベペディジムノベディ某ジムノペディ', '1ん', 'ありがとう在りし日ありがとう在りし日芝ありがとう在りし日', 'StatStat', '爺明な嘘の花穫明な嘘の花芝透明な嘘の花', '', '', '', '', '必横草必横草\\\\心横型', '月の眼球主月の眼球主芝月の眼', '紳士ゲェムに紳士ゲェム栄純士ゲェム', '音符は歩き出す音符は歩き出す芝音符は歩', '', '', '螺旋に伸びる人色彩虹旋に伸びる人色彩党。虹旋に伸びる色彩', 'するするするする', '', '夢の歩みを見上げて夢の歩みを見上げてで栄夢の歩みを見上げて', 'に】0還呈間訂向ーコリ/)細', '', '', 'シューマン交響曲第一番的日党シューマン交磐曲第一番的日常。染シューマン交響曲第一番的日常', 'メッセージウィンドウを消去します', '芝空を畠う月』空を舞う党', '昼間の絵画達昼間の絵画達芝昼間の絵画達', '', '花弁となり生世界は大いに歌う花弁となり生世界は大いに歌う党花弁となり全世界は大いに歌う', '君が立つ大地だ君が立つ大地だ茶君が立つ大地だ', '', '天球の奇中天球の奇中栄天球の奇申', 'oO『間', '', '', '因果的交流の世界党因果的交流の世界', '', '', '絵画は歌う絵画は歌う画は歌う', '', '既読のみ既読のみ既読のみ', '夜空は奏でるだろう夜空は奏でるだろう芝夜空は奏でるだろう', '', '', '遊ぶ絵画遊ぶ絵画芝遊ぶ絵画', 'BackBackBacksBack還証', '', 'この櫻ノ詩の下この櫻ノ詩の下芝この要ノ詩の下', 'するするするする', '人4ゲームを終了し', '色彩無限色彩力無限芝色彩力無限', '', 'baCkbaCk', '', '軽やかに!目軽やかに!!目軽やかに!芝軽やかに!目軽やかに!', '君の筆は世界を奏でる君の筆は世界を奏でる党君の筆は世界を奏', 'Ver101@⑥MAKURAAllRightsReserved.', '', '', '見上げた青の果で見上げた青の果て芝見上げた', '', '', '|人半En、S導記Previous:蘭3PreV1OUB|Previouns「_PrevionsreviousTPreviousreVious1So才は入ら【流', 'EXtraEXtra', '|ウインドウーウンドウー|ウィンドウー|ウンドウー', '', 'ZYPRESSENは櫻に変わるZYPRESSENは櫻に変わる茶ZYPRESSENは櫻に変わる', '|。すべて2すべて(にでうくですべで', '']\n"
          ],
          "name": "stdout"
        }
      ]
    },
    {
      "cell_type": "code",
      "metadata": {
        "id": "R6REuUAVLkP_",
        "colab": {
          "base_uri": "https://localhost:8080/"
        },
        "outputId": "2d27f701-ab5e-4ad7-d23a-ed9a44962266"
      },
      "source": [
        "lists = [filedir, res, logs]\n",
        "df = pd.DataFrame (lists,index=['', '', ''])\n",
        "print(df.T)\n",
        "!pip install xlsxwriter\n",
        "df.T.to_excel(\"logfile.xlsx\", engine='xlsxwriter')"
      ],
      "execution_count": null,
      "outputs": [
        {
          "output_type": "stream",
          "text": [
            "                                                        ...      \n",
            "0    /content/drive/MyDrive/JPTextImage/sysgrp~.arc...  ...     0\n",
            "1    /content/drive/MyDrive/JPTextImage/sysgrp~.arc...  ...     0\n",
            "2    /content/drive/MyDrive/JPTextImage/sysgrp~.arc...  ...     0\n",
            "3    /content/drive/MyDrive/JPTextImage/sysgrp~.arc...  ...     0\n",
            "4    /content/drive/MyDrive/JPTextImage/sysgrp~.arc...  ...     0\n",
            "..                                                 ...  ...   ...\n",
            "151  /content/drive/MyDrive/JPTextImage/sysgrp~.arc...  ...     0\n",
            "152  /content/drive/MyDrive/JPTextImage/sysgrp~.arc...  ...     1\n",
            "153  /content/drive/MyDrive/JPTextImage/sysgrp~.arc...  ...     1\n",
            "154  /content/drive/MyDrive/JPTextImage/sysgrp~.arc...  ...     0\n",
            "155  /content/drive/MyDrive/JPTextImage/sysgrp~.arc...  ...  None\n",
            "\n",
            "[156 rows x 3 columns]\n",
            "Collecting xlsxwriter\n",
            "\u001b[?25l  Downloading https://files.pythonhosted.org/packages/6b/41/bf1aae04932d1eaffee1fc5f8b38ca47bbbf07d765129539bc4bcce1ce0c/XlsxWriter-1.3.7-py2.py3-none-any.whl (144kB)\n",
            "\u001b[K     |████████████████████████████████| 153kB 5.0MB/s \n",
            "\u001b[?25hInstalling collected packages: xlsxwriter\n",
            "Successfully installed xlsxwriter-1.3.7\n"
          ],
          "name": "stdout"
        }
      ]
    },
    {
      "cell_type": "code",
      "metadata": {
        "id": "yOR3B69JJn0i"
      },
      "source": [
        "# from google.colab import files\n",
        "# files.download(\"logfile.xlsx\")"
      ],
      "execution_count": null,
      "outputs": []
    },
    {
      "cell_type": "code",
      "metadata": {
        "colab": {
          "base_uri": "https://localhost:8080/",
          "height": 35
        },
        "id": "wFa-E3NI0Im9",
        "outputId": "810fc32a-bc73-4ea1-c6a7-280748b99d23"
      },
      "source": [
        "%cd /content/\n",
        "make_archive('/content/JPTextImage', '/content/JPTextImage.zip')\n",
        "\n",
        "from google.colab import files\n",
        "files.download(\"JPTextImage.zip\")"
      ],
      "execution_count": null,
      "outputs": [
        {
          "output_type": "stream",
          "text": [
            "/content\n"
          ],
          "name": "stdout"
        },
        {
          "output_type": "display_data",
          "data": {
            "application/javascript": [
              "\n",
              "    async function download(id, filename, size) {\n",
              "      if (!google.colab.kernel.accessAllowed) {\n",
              "        return;\n",
              "      }\n",
              "      const div = document.createElement('div');\n",
              "      const label = document.createElement('label');\n",
              "      label.textContent = `Downloading \"${filename}\": `;\n",
              "      div.appendChild(label);\n",
              "      const progress = document.createElement('progress');\n",
              "      progress.max = size;\n",
              "      div.appendChild(progress);\n",
              "      document.body.appendChild(div);\n",
              "\n",
              "      const buffers = [];\n",
              "      let downloaded = 0;\n",
              "\n",
              "      const channel = await google.colab.kernel.comms.open(id);\n",
              "      // Send a message to notify the kernel that we're ready.\n",
              "      channel.send({})\n",
              "\n",
              "      for await (const message of channel.messages) {\n",
              "        // Send a message to notify the kernel that we're ready.\n",
              "        channel.send({})\n",
              "        if (message.buffers) {\n",
              "          for (const buffer of message.buffers) {\n",
              "            buffers.push(buffer);\n",
              "            downloaded += buffer.byteLength;\n",
              "            progress.value = downloaded;\n",
              "          }\n",
              "        }\n",
              "      }\n",
              "      const blob = new Blob(buffers, {type: 'application/binary'});\n",
              "      const a = document.createElement('a');\n",
              "      a.href = window.URL.createObjectURL(blob);\n",
              "      a.download = filename;\n",
              "      div.appendChild(a);\n",
              "      a.click();\n",
              "      div.remove();\n",
              "    }\n",
              "  "
            ],
            "text/plain": [
              "<IPython.core.display.Javascript object>"
            ]
          },
          "metadata": {
            "tags": []
          }
        },
        {
          "output_type": "display_data",
          "data": {
            "application/javascript": [
              "download(\"download_ab477332-28e2-47bd-97da-ff0bf795e8fd\", \"JPTextImage.zip\", 12027050)"
            ],
            "text/plain": [
              "<IPython.core.display.Javascript object>"
            ]
          },
          "metadata": {
            "tags": []
          }
        }
      ]
    },
    {
      "cell_type": "code",
      "metadata": {
        "id": "AF66CzKb0OoU"
      },
      "source": [
        ""
      ],
      "execution_count": null,
      "outputs": []
    }
  ]
}