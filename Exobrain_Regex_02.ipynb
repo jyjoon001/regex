{
  "nbformat": 4,
  "nbformat_minor": 0,
  "metadata": {
    "colab": {
      "name": "Exobrain_Regex_02.ipynb",
      "provenance": [],
      "collapsed_sections": [],
      "authorship_tag": "ABX9TyPYf7CLODuz5LMA53rYyNil",
      "include_colab_link": true
    },
    "kernelspec": {
      "name": "python3",
      "display_name": "Python 3"
    }
  },
  "cells": [
    {
      "cell_type": "markdown",
      "metadata": {
        "id": "view-in-github",
        "colab_type": "text"
      },
      "source": [
        "<a href=\"https://colab.research.google.com/github/jyjoon001/regex/blob/main/Exobrain_Regex_02.ipynb\" target=\"_parent\"><img src=\"https://colab.research.google.com/assets/colab-badge.svg\" alt=\"Open In Colab\"/></a>"
      ]
    },
    {
      "cell_type": "markdown",
      "metadata": {
        "id": "YEYakQKUD6BE"
      },
      "source": [
        "# Exobrain_Regex\n",
        "음성처리연구실 연구과제 전처리\n",
        "> @splab"
      ]
    },
    {
      "cell_type": "code",
      "metadata": {
        "id": "9fKOdwg6JdVy"
      },
      "source": [
        "filename = \"03_train.txt\""
      ],
      "execution_count": null,
      "outputs": []
    },
    {
      "cell_type": "code",
      "metadata": {
        "colab": {
          "base_uri": "https://localhost:8080/"
        },
        "id": "rLfzuDN0I4HB",
        "outputId": "cc455a45-141b-44e2-96cd-6d2261204499"
      },
      "source": [
        "from google.colab import drive\n",
        "drive.mount('/content/drive')"
      ],
      "execution_count": null,
      "outputs": [
        {
          "output_type": "stream",
          "text": [
            "Mounted at /content/drive\n"
          ],
          "name": "stdout"
        }
      ]
    },
    {
      "cell_type": "code",
      "metadata": {
        "colab": {
          "base_uri": "https://localhost:8080/"
        },
        "id": "BGPk6Z3hD4fn",
        "outputId": "a9f854ed-f056-48d4-891d-63169e5ee45e"
      },
      "source": [
        "import glob\n",
        "\n",
        "filedir = glob.glob('/content/drive/MyDrive/Exobrain/corpus3/*')\n",
        "print(filedir)"
      ],
      "execution_count": null,
      "outputs": [
        {
          "output_type": "stream",
          "text": [
            "['/content/drive/MyDrive/Exobrain/corpus3/new_utf.txt']\n"
          ],
          "name": "stdout"
        }
      ]
    },
    {
      "cell_type": "code",
      "metadata": {
        "id": "0yvIWGO1I8Vp"
      },
      "source": [
        "sentcat = []\n",
        "data = open(filedir[0], 'r', encoding='utf-8')\n",
        "sent = data.readlines()\n",
        "for i in range(0, len(sent)-1):\n",
        "    temp = i%3\n",
        "    if temp is 0:\n",
        "        sentcat.append(sent[i])"
      ],
      "execution_count": null,
      "outputs": []
    },
    {
      "cell_type": "code",
      "metadata": {
        "colab": {
          "base_uri": "https://localhost:8080/"
        },
        "id": "y1-fDme4XY3e",
        "outputId": "204ceefc-6b32-4441-9693-96a9697e7304"
      },
      "source": [
        "for i in range(0, 10):\n",
        "    print(sentcat[i])"
      ],
      "execution_count": null,
      "outputs": [
        {
          "output_type": "stream",
          "text": [
            "엠마누엘 웅가로 / 의상서 실내 장식품으로… 디자인 세계 넓혀\n",
            "\n",
            "프랑스의 세계적인 의상 디자이너 엠마누엘 웅가로가 실내 장식용 직물 디자이너로 나섰다.\n",
            "\n",
            "웅가로는 침실과 식당, 욕실에서 사용하는 갖가지 직물제품을 디자인해 최근 파리의 갤러리 라파예트백화점에서 '색의 컬렉션'이라는 이름으로 전시회를 열었다.\n",
            "\n",
            "목욕가운부터 탁자보, 냅킨, 앞치마까지 그가 디자인한 작품들에서 두드러지는 것은 색의 조화다.\n",
            "\n",
            "엠마누엘 웅가로는 \"실내 장식품을 디자인할 때 옷을 만들 때와는 다른 해방감을 느낀다\"고 말한다.\n",
            "\n",
            "집은 창작의 원천이라는 그는 옷 못지않게 공간이 주는 미학을 중요시해 왔다.\n",
            "\n",
            "매일 욕실에서 1시간 반 이상을 보낸다는 그는 체조와 텔레비전 시청, 식사까지 할 수 있는 욕실이 나와야 한다고 주장할 정도다.\n",
            "\n",
            "옷을 만드느라 늘 대하는 천을 실내용품을 위해 다시 디자인하는 것은 '상상력을 마음껏 펼치는 즐거운 놀이'라고 말하는 그는 다른 디자이너들처럼 찻잔, 접시등 식기 디자인까지 활동 폭을 넓혀갈 계획이다.\n",
            "\n",
            "여름 주방 생활 용품 / 빙수 - 샤베트기… 안방서 더위식힌다.\n",
            "\n",
            "얼음 대신 쓰는 아이스팩도 인기 / 국산 다양… 성능 외제에 손색 없어\n",
            "\n"
          ],
          "name": "stdout"
        }
      ]
    },
    {
      "cell_type": "code",
      "metadata": {
        "id": "k4ixOgJ2ac7W"
      },
      "source": [
        "import re\n",
        "def clean_text(text):\n",
        "    for sentemp in text:\n",
        "        pattern0='\"'\n",
        "        text = re.sub(pattern=pattern0, repl='', string=text)\n",
        "        pattern0='\\n'\n",
        "        text = re.sub(pattern=pattern0, repl='', string=text)\n",
        "        text = text.replace(\"\\\\\", '\"')\n",
        "        text = text.replace(\".,\", '.')       \n",
        "        text = text.replace(\"?,\", '?')            \n",
        "    return text    "
      ],
      "execution_count": null,
      "outputs": []
    },
    {
      "cell_type": "code",
      "metadata": {
        "id": "9Mzi8VaNaf5W"
      },
      "source": [
        "cleaned = []\n",
        "for i in range(0, len(sentcat)-1): \n",
        "    cleaned.append(clean_text(sentcat[i]))"
      ],
      "execution_count": null,
      "outputs": []
    },
    {
      "cell_type": "code",
      "metadata": {
        "colab": {
          "base_uri": "https://localhost:8080/",
          "height": 298
        },
        "id": "yTnamUtnahKY",
        "outputId": "e6caf8e4-98b2-45ba-bc1d-013267869d6b"
      },
      "source": [
        "cleaned = [ele for ele in cleaned if ele != ''] \n",
        "res = [] \n",
        "[res.append(x) for x in cleaned if x not in res] "
      ],
      "execution_count": null,
      "outputs": [
        {
          "output_type": "error",
          "ename": "KeyboardInterrupt",
          "evalue": "ignored",
          "traceback": [
            "\u001b[0;31m---------------------------------------------------------------------------\u001b[0m",
            "\u001b[0;31mKeyboardInterrupt\u001b[0m                         Traceback (most recent call last)",
            "\u001b[0;32m<ipython-input-44-36f265beeafb>\u001b[0m in \u001b[0;36m<module>\u001b[0;34m()\u001b[0m\n\u001b[1;32m      1\u001b[0m \u001b[0mcleaned\u001b[0m \u001b[0;34m=\u001b[0m \u001b[0;34m[\u001b[0m\u001b[0mele\u001b[0m \u001b[0;32mfor\u001b[0m \u001b[0mele\u001b[0m \u001b[0;32min\u001b[0m \u001b[0mcleaned\u001b[0m \u001b[0;32mif\u001b[0m \u001b[0mele\u001b[0m \u001b[0;34m!=\u001b[0m \u001b[0;34m''\u001b[0m\u001b[0;34m]\u001b[0m\u001b[0;34m\u001b[0m\u001b[0;34m\u001b[0m\u001b[0m\n\u001b[1;32m      2\u001b[0m \u001b[0mres\u001b[0m \u001b[0;34m=\u001b[0m \u001b[0;34m[\u001b[0m\u001b[0;34m]\u001b[0m\u001b[0;34m\u001b[0m\u001b[0;34m\u001b[0m\u001b[0m\n\u001b[0;32m----> 3\u001b[0;31m \u001b[0;34m[\u001b[0m\u001b[0mres\u001b[0m\u001b[0;34m.\u001b[0m\u001b[0mappend\u001b[0m\u001b[0;34m(\u001b[0m\u001b[0mx\u001b[0m\u001b[0;34m)\u001b[0m \u001b[0;32mfor\u001b[0m \u001b[0mx\u001b[0m \u001b[0;32min\u001b[0m \u001b[0mcleaned\u001b[0m \u001b[0;32mif\u001b[0m \u001b[0mx\u001b[0m \u001b[0;32mnot\u001b[0m \u001b[0;32min\u001b[0m \u001b[0mres\u001b[0m\u001b[0;34m]\u001b[0m\u001b[0;34m\u001b[0m\u001b[0;34m\u001b[0m\u001b[0m\n\u001b[0m",
            "\u001b[0;32m<ipython-input-44-36f265beeafb>\u001b[0m in \u001b[0;36m<listcomp>\u001b[0;34m(.0)\u001b[0m\n\u001b[1;32m      1\u001b[0m \u001b[0mcleaned\u001b[0m \u001b[0;34m=\u001b[0m \u001b[0;34m[\u001b[0m\u001b[0mele\u001b[0m \u001b[0;32mfor\u001b[0m \u001b[0mele\u001b[0m \u001b[0;32min\u001b[0m \u001b[0mcleaned\u001b[0m \u001b[0;32mif\u001b[0m \u001b[0mele\u001b[0m \u001b[0;34m!=\u001b[0m \u001b[0;34m''\u001b[0m\u001b[0;34m]\u001b[0m\u001b[0;34m\u001b[0m\u001b[0;34m\u001b[0m\u001b[0m\n\u001b[1;32m      2\u001b[0m \u001b[0mres\u001b[0m \u001b[0;34m=\u001b[0m \u001b[0;34m[\u001b[0m\u001b[0;34m]\u001b[0m\u001b[0;34m\u001b[0m\u001b[0;34m\u001b[0m\u001b[0m\n\u001b[0;32m----> 3\u001b[0;31m \u001b[0;34m[\u001b[0m\u001b[0mres\u001b[0m\u001b[0;34m.\u001b[0m\u001b[0mappend\u001b[0m\u001b[0;34m(\u001b[0m\u001b[0mx\u001b[0m\u001b[0;34m)\u001b[0m \u001b[0;32mfor\u001b[0m \u001b[0mx\u001b[0m \u001b[0;32min\u001b[0m \u001b[0mcleaned\u001b[0m \u001b[0;32mif\u001b[0m \u001b[0mx\u001b[0m \u001b[0;32mnot\u001b[0m \u001b[0;32min\u001b[0m \u001b[0mres\u001b[0m\u001b[0;34m]\u001b[0m\u001b[0;34m\u001b[0m\u001b[0;34m\u001b[0m\u001b[0m\n\u001b[0m",
            "\u001b[0;31mKeyboardInterrupt\u001b[0m: "
          ]
        }
      ]
    },
    {
      "cell_type": "code",
      "metadata": {
        "colab": {
          "base_uri": "https://localhost:8080/"
        },
        "id": "aYkcUHS8VIeY",
        "outputId": "3097034a-51b7-4573-dd57-3a225d608b6f"
      },
      "source": [
        "import pandas as pd\n",
        "corpus = [cleaned]\n",
        "df = pd.DataFrame (corpus,index=[''])\n",
        "print(df.T)"
      ],
      "execution_count": null,
      "outputs": [
        {
          "output_type": "stream",
          "text": [
            "                                                          \n",
            "0                       엠마누엘 웅가로 / 의상서 실내 장식품으로… 디자인 세계 넓혀\n",
            "1         프랑스의 세계적인 의상 디자이너 엠마누엘 웅가로가 실내 장식용 직물 디자이너로 나섰다.\n",
            "2        웅가로는 침실과 식당, 욕실에서 사용하는 갖가지 직물제품을 디자인해 최근 파리의 갤...\n",
            "3        목욕가운부터 탁자보, 냅킨, 앞치마까지 그가 디자인한 작품들에서 두드러지는 것은 색...\n",
            "4        엠마누엘 웅가로는 실내 장식품을 디자인할 때 옷을 만들 때와는 다른 해방감을 느낀다...\n",
            "...                                                    ...\n",
            "1718854  장 의원은 이날 페이스북에 “류석춘 혁신위원장 임명과 취임 일성, 혁신위원 명단 발...\n",
            "1718855  장 의원은 “하루 종일 혼란스럽고 한없는 무력감 때문에 몸이 무척 아프다”고 심경을...\n",
            "1718856  그러면서 장 의원은 “류위원장의 말씀처럼 박근혜 전 대통령의 탄핵은 잘못된 것이고 ...\n",
            "1718857  장 의원은 “지난 20년간 보수정당이 국정농단이 아니라 좌클릭을 해서 망한 것인지…...\n",
            "1718858            가치관의 혼돈과 정체성에 대한 충격으로 글을 쓸 힘마저 없다”고 했다.\n",
            "\n",
            "[1718859 rows x 1 columns]\n"
          ],
          "name": "stdout"
        }
      ]
    },
    {
      "cell_type": "code",
      "metadata": {
        "id": "g7yfQ9nyVKiP"
      },
      "source": [
        "df.T.to_csv(filename, sep='\\n',index=False, quoting=None)"
      ],
      "execution_count": null,
      "outputs": []
    },
    {
      "cell_type": "code",
      "metadata": {
        "colab": {
          "base_uri": "https://localhost:8080/",
          "height": 34
        },
        "id": "k4DqQ3J4VM9f",
        "outputId": "d76355ce-6d40-4462-86c0-4dc6f8e6e62e"
      },
      "source": [
        "from google.colab import files\n",
        "files.download(filename)"
      ],
      "execution_count": null,
      "outputs": [
        {
          "output_type": "display_data",
          "data": {
            "application/javascript": [
              "\n",
              "    async function download(id, filename, size) {\n",
              "      if (!google.colab.kernel.accessAllowed) {\n",
              "        return;\n",
              "      }\n",
              "      const div = document.createElement('div');\n",
              "      const label = document.createElement('label');\n",
              "      label.textContent = `Downloading \"${filename}\": `;\n",
              "      div.appendChild(label);\n",
              "      const progress = document.createElement('progress');\n",
              "      progress.max = size;\n",
              "      div.appendChild(progress);\n",
              "      document.body.appendChild(div);\n",
              "\n",
              "      const buffers = [];\n",
              "      let downloaded = 0;\n",
              "\n",
              "      const channel = await google.colab.kernel.comms.open(id);\n",
              "      // Send a message to notify the kernel that we're ready.\n",
              "      channel.send({})\n",
              "\n",
              "      for await (const message of channel.messages) {\n",
              "        // Send a message to notify the kernel that we're ready.\n",
              "        channel.send({})\n",
              "        if (message.buffers) {\n",
              "          for (const buffer of message.buffers) {\n",
              "            buffers.push(buffer);\n",
              "            downloaded += buffer.byteLength;\n",
              "            progress.value = downloaded;\n",
              "          }\n",
              "        }\n",
              "      }\n",
              "      const blob = new Blob(buffers, {type: 'application/binary'});\n",
              "      const a = document.createElement('a');\n",
              "      a.href = window.URL.createObjectURL(blob);\n",
              "      a.download = filename;\n",
              "      div.appendChild(a);\n",
              "      a.click();\n",
              "      div.remove();\n",
              "    }\n",
              "  "
            ],
            "text/plain": [
              "<IPython.core.display.Javascript object>"
            ]
          },
          "metadata": {
            "tags": []
          }
        },
        {
          "output_type": "display_data",
          "data": {
            "application/javascript": [
              "download(\"download_1633f67b-c098-4862-b5fc-e68b21db834a\", \"03_train.txt\", 171156583)"
            ],
            "text/plain": [
              "<IPython.core.display.Javascript object>"
            ]
          },
          "metadata": {
            "tags": []
          }
        }
      ]
    },
    {
      "cell_type": "code",
      "metadata": {
        "id": "9rfINJ7tJ8SC",
        "colab": {
          "base_uri": "https://localhost:8080/",
          "height": 226
        },
        "outputId": "d3501e50-a9bb-4edf-d006-17d63c4dc14e"
      },
      "source": [
        "cleaned = []\n",
        "for i in range(0, len(sentcat)-1): \n",
        "    for j in range(0, len(sentcat[i])-1):\n",
        "        if pattern in sentcat[i][j]:\n",
        "            cleaned.append(clean_text(sentcat[i][j],pattern))"
      ],
      "execution_count": null,
      "outputs": [
        {
          "output_type": "error",
          "ename": "NameError",
          "evalue": "ignored",
          "traceback": [
            "\u001b[0;31m---------------------------------------------------------------------------\u001b[0m",
            "\u001b[0;31mNameError\u001b[0m                                 Traceback (most recent call last)",
            "\u001b[0;32m<ipython-input-28-0e5cf7291700>\u001b[0m in \u001b[0;36m<module>\u001b[0;34m()\u001b[0m\n\u001b[1;32m      2\u001b[0m \u001b[0;32mfor\u001b[0m \u001b[0mi\u001b[0m \u001b[0;32min\u001b[0m \u001b[0mrange\u001b[0m\u001b[0;34m(\u001b[0m\u001b[0;36m0\u001b[0m\u001b[0;34m,\u001b[0m \u001b[0mlen\u001b[0m\u001b[0;34m(\u001b[0m\u001b[0msentcat\u001b[0m\u001b[0;34m)\u001b[0m\u001b[0;34m-\u001b[0m\u001b[0;36m1\u001b[0m\u001b[0;34m)\u001b[0m\u001b[0;34m:\u001b[0m\u001b[0;34m\u001b[0m\u001b[0;34m\u001b[0m\u001b[0m\n\u001b[1;32m      3\u001b[0m     \u001b[0;32mfor\u001b[0m \u001b[0mj\u001b[0m \u001b[0;32min\u001b[0m \u001b[0mrange\u001b[0m\u001b[0;34m(\u001b[0m\u001b[0;36m0\u001b[0m\u001b[0;34m,\u001b[0m \u001b[0mlen\u001b[0m\u001b[0;34m(\u001b[0m\u001b[0msentcat\u001b[0m\u001b[0;34m[\u001b[0m\u001b[0mi\u001b[0m\u001b[0;34m]\u001b[0m\u001b[0;34m)\u001b[0m\u001b[0;34m-\u001b[0m\u001b[0;36m1\u001b[0m\u001b[0;34m)\u001b[0m\u001b[0;34m:\u001b[0m\u001b[0;34m\u001b[0m\u001b[0;34m\u001b[0m\u001b[0m\n\u001b[0;32m----> 4\u001b[0;31m         \u001b[0;32mif\u001b[0m \u001b[0mpattern\u001b[0m \u001b[0;32min\u001b[0m \u001b[0msentcat\u001b[0m\u001b[0;34m[\u001b[0m\u001b[0mi\u001b[0m\u001b[0;34m]\u001b[0m\u001b[0;34m[\u001b[0m\u001b[0mj\u001b[0m\u001b[0;34m]\u001b[0m\u001b[0;34m:\u001b[0m\u001b[0;34m\u001b[0m\u001b[0;34m\u001b[0m\u001b[0m\n\u001b[0m\u001b[1;32m      5\u001b[0m             \u001b[0mcleaned\u001b[0m\u001b[0;34m.\u001b[0m\u001b[0mappend\u001b[0m\u001b[0;34m(\u001b[0m\u001b[0mclean_text\u001b[0m\u001b[0;34m(\u001b[0m\u001b[0msentcat\u001b[0m\u001b[0;34m[\u001b[0m\u001b[0mi\u001b[0m\u001b[0;34m]\u001b[0m\u001b[0;34m[\u001b[0m\u001b[0mj\u001b[0m\u001b[0;34m]\u001b[0m\u001b[0;34m,\u001b[0m\u001b[0mpattern\u001b[0m\u001b[0;34m)\u001b[0m\u001b[0;34m)\u001b[0m\u001b[0;34m\u001b[0m\u001b[0;34m\u001b[0m\u001b[0m\n",
            "\u001b[0;31mNameError\u001b[0m: name 'pattern' is not defined"
          ]
        }
      ]
    },
    {
      "cell_type": "code",
      "metadata": {
        "id": "YyGnoeb5JdnR"
      },
      "source": [
        "import re\n",
        "def clean_text(text,pattern):\n",
        "    for sentemp in text:\n",
        "        text = re.sub(pattern=pattern, repl='', string=text)\n",
        "        pattern0='\"'\n",
        "        text = re.sub(pattern=pattern0, repl='', string=text)\n",
        "        pattern0='\\n'\n",
        "        text = re.sub(pattern=pattern0, repl='', string=text)\n",
        "        text = text.replace(\"\\\\\", '\"')\n",
        "        text = text.replace(\".,\", '.')       \n",
        "        text = text.replace(\"?,\", '?')            \n",
        "    return text    "
      ],
      "execution_count": null,
      "outputs": []
    },
    {
      "cell_type": "code",
      "metadata": {
        "id": "6lSJE0ClJ-sp"
      },
      "source": [
        "# cleaned = [ele for ele in cleaned if ele != ''] \n",
        "# res = [] \n",
        "# [res.append(x) for x in cleaned if x not in res] "
      ],
      "execution_count": null,
      "outputs": []
    },
    {
      "cell_type": "code",
      "metadata": {
        "colab": {
          "base_uri": "https://localhost:8080/"
        },
        "id": "jSKbN0zCKjY7",
        "outputId": "48d9fda9-37fe-4a29-d525-c39c6076b7e7"
      },
      "source": [
        "# res.sort()\n",
        "print(len(res))\n",
        "for i in range(0, 10):\n",
        "    print(str(res[i]))"
      ],
      "execution_count": null,
      "outputs": [
        {
          "output_type": "stream",
          "text": [
            "2200\n",
            " 1909년 철도 공사 때, 구석기시대 후기의 석회석제 환조(九彫) 여성나체상(비너스 상)이 출토되었다.\n",
            " 『빌렌도르프의 비너스』라고 부르는 이 조각은 젖가슴, 배, 엉덩이가 유난히 튀어 나왔고 높이 11cm의 전신에 붉은 색을 칠한 상이었다.\n",
            " 머리털은 등근 테를 겹쳐 놓은 것 같이 잘 손질되어 있었으나 얼굴에는 전혀 관심이 없었는지 눈 ∙ 코조차 그리지 않았다.\n",
            " 출산 주술에 관계되는 것 같이 생각된다.\n",
            "'내 마음은 호수요'의 첫 구절로 유명한 김동명의 시 <내 마음은>에서 마음을 빗댄 소재가 아닌 것은 무엇일까?\n",
            "302년 현도군을 공격해 적 8,000여 명을 사로잡고, 311년 요동 서안평을 점령하기도 했으며, 313년과 314년에는 낙랑군과 대방군을 오랜 투쟁 끝에 각각 병합했고, 317년 다시 현도성을 공격하는 등 서방과 남방으로 급속한 팽창을 도모하였다.\n",
            "뚝배기보다 장맛이 좋다,\n",
            "당시 본정(本町), 현재의 충무로에 위치하였다.\n",
            "이 도시는 유럽연합, 북대서양조약기구 등의 본부가 위치하고 있어 서유럽의 수도 구실을 하고 있다.\n",
            "오줌 누는 소년 동상으로도 유명한 벨기에의 이 도시는 어디일까?\n"
          ],
          "name": "stdout"
        }
      ]
    },
    {
      "cell_type": "code",
      "metadata": {
        "colab": {
          "base_uri": "https://localhost:8080/"
        },
        "id": "9TTi_BlPKnM6",
        "outputId": "9a01abb3-d00f-4a7f-b08a-c7bf4a907a38"
      },
      "source": [
        "import pandas as pd\n",
        "corpus = [res]\n",
        "df = pd.DataFrame (corpus,index=[''])\n",
        "print(df.T)"
      ],
      "execution_count": null,
      "outputs": [
        {
          "output_type": "stream",
          "text": [
            "                                                       \n",
            "0      1909년 철도 공사 때, 구석기시대 후기의 석회석제 환조(九彫) 여성나체상(비너...\n",
            "1      『빌렌도르프의 비너스』라고 부르는 이 조각은 젖가슴, 배, 엉덩이가 유난히 튀어 ...\n",
            "2      머리털은 등근 테를 겹쳐 놓은 것 같이 잘 손질되어 있었으나 얼굴에는 전혀 관심이...\n",
            "3                                출산 주술에 관계되는 것 같이 생각된다.\n",
            "4     '내 마음은 호수요'의 첫 구절로 유명한 김동명의 시 <내 마음은>에서 마음을 빗댄...\n",
            "...                                                 ...\n",
            "2195  또한 랴오둥의 모용(慕容) 씨와도 자주 싸웠으며 낙랑ㆍ대방의 2군을 합방하는 등 고...\n",
            "2196  대리석이나 기타의 돌, 글라스 등 작은 단편들을 늘어놓아 일정한 형상이나 모양을 표...\n",
            "2197  영국의 명예혁명과 미국의 독립혁명, 프랑스 시민혁명을 근대 사회 3대 시민혁명이라고...\n",
            "2198   독립혁명 때는 독립선언서, 프랑스 혁명 때는 인권선언을 발표했는데, 영국의 명예혁...\n",
            "2199  강원도 삼척시 신기면 대이리 189번지에 있는 동굴로 2003년 2월 25일 처음 ...\n",
            "\n",
            "[2200 rows x 1 columns]\n"
          ],
          "name": "stdout"
        }
      ]
    },
    {
      "cell_type": "code",
      "metadata": {
        "id": "zaVbYnjlSpmX"
      },
      "source": [
        "df.T.to_csv(filename, sep='\\n',index=False, quoting=None)"
      ],
      "execution_count": null,
      "outputs": []
    },
    {
      "cell_type": "code",
      "metadata": {
        "colab": {
          "base_uri": "https://localhost:8080/",
          "height": 17
        },
        "id": "FWnbzsytSral",
        "outputId": "4996ad1f-5a2b-4197-810d-e0ade9b8e703"
      },
      "source": [
        "from google.colab import files\n",
        "files.download(filename)"
      ],
      "execution_count": null,
      "outputs": [
        {
          "output_type": "display_data",
          "data": {
            "application/javascript": [
              "\n",
              "    async function download(id, filename, size) {\n",
              "      if (!google.colab.kernel.accessAllowed) {\n",
              "        return;\n",
              "      }\n",
              "      const div = document.createElement('div');\n",
              "      const label = document.createElement('label');\n",
              "      label.textContent = `Downloading \"${filename}\": `;\n",
              "      div.appendChild(label);\n",
              "      const progress = document.createElement('progress');\n",
              "      progress.max = size;\n",
              "      div.appendChild(progress);\n",
              "      document.body.appendChild(div);\n",
              "\n",
              "      const buffers = [];\n",
              "      let downloaded = 0;\n",
              "\n",
              "      const channel = await google.colab.kernel.comms.open(id);\n",
              "      // Send a message to notify the kernel that we're ready.\n",
              "      channel.send({})\n",
              "\n",
              "      for await (const message of channel.messages) {\n",
              "        // Send a message to notify the kernel that we're ready.\n",
              "        channel.send({})\n",
              "        if (message.buffers) {\n",
              "          for (const buffer of message.buffers) {\n",
              "            buffers.push(buffer);\n",
              "            downloaded += buffer.byteLength;\n",
              "            progress.value = downloaded;\n",
              "          }\n",
              "        }\n",
              "      }\n",
              "      const blob = new Blob(buffers, {type: 'application/binary'});\n",
              "      const a = document.createElement('a');\n",
              "      a.href = window.URL.createObjectURL(blob);\n",
              "      a.download = filename;\n",
              "      div.appendChild(a);\n",
              "      a.click();\n",
              "      div.remove();\n",
              "    }\n",
              "  "
            ],
            "text/plain": [
              "<IPython.core.display.Javascript object>"
            ]
          },
          "metadata": {
            "tags": []
          }
        },
        {
          "output_type": "display_data",
          "data": {
            "application/javascript": [
              "download(\"download_36559878-5226-4b82-8da0-1ddfdc28d037\", \"02_08.txt\", 296019)"
            ],
            "text/plain": [
              "<IPython.core.display.Javascript object>"
            ]
          },
          "metadata": {
            "tags": []
          }
        }
      ]
    },
    {
      "cell_type": "code",
      "metadata": {
        "id": "rZuIOMBwTFp_"
      },
      "source": [
        ""
      ],
      "execution_count": null,
      "outputs": []
    }
  ]
}