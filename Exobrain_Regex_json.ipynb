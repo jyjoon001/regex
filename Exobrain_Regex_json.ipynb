{
  "nbformat": 4,
  "nbformat_minor": 0,
  "metadata": {
    "colab": {
      "name": "Exobrain_Regex_json.ipynb",
      "provenance": [],
      "collapsed_sections": [],
      "authorship_tag": "ABX9TyNftaUGsOLG4bbAuRVcitNI",
      "include_colab_link": true
    },
    "kernelspec": {
      "name": "python3",
      "display_name": "Python 3"
    }
  },
  "cells": [
    {
      "cell_type": "markdown",
      "metadata": {
        "id": "view-in-github",
        "colab_type": "text"
      },
      "source": [
        "<a href=\"https://colab.research.google.com/github/jyjoon001/regex/blob/main/Exobrain_Regex_json.ipynb\" target=\"_parent\"><img src=\"https://colab.research.google.com/assets/colab-badge.svg\" alt=\"Open In Colab\"/></a>"
      ]
    },
    {
      "cell_type": "markdown",
      "metadata": {
        "id": "YEYakQKUD6BE"
      },
      "source": [
        "# Exobrain_Regex\n",
        "음성처리연구실 연구과제 전처리\n",
        "> @splab"
      ]
    },
    {
      "cell_type": "code",
      "metadata": {
        "id": "9fKOdwg6JdVy"
      },
      "source": [
        "pattern = '\t\t\t\t\t\"context\": '\n",
        "# pattern = '\t\t\t\t\t\t\t\"question\": '\n",
        "filename = \"01_04A1.txt\""
      ],
      "execution_count": null,
      "outputs": []
    },
    {
      "cell_type": "code",
      "metadata": {
        "colab": {
          "base_uri": "https://localhost:8080/"
        },
        "id": "rLfzuDN0I4HB",
        "outputId": "88fc1497-a7e2-401c-cc29-0b2d81ab791c"
      },
      "source": [
        "from google.colab import drive\n",
        "drive.mount('/content/drive')"
      ],
      "execution_count": null,
      "outputs": [
        {
          "output_type": "stream",
          "text": [
            "Drive already mounted at /content/drive; to attempt to forcibly remount, call drive.mount(\"/content/drive\", force_remount=True).\n"
          ],
          "name": "stdout"
        }
      ]
    },
    {
      "cell_type": "code",
      "metadata": {
        "colab": {
          "base_uri": "https://localhost:8080/"
        },
        "id": "BGPk6Z3hD4fn",
        "outputId": "5500a2ec-6ca5-41c5-f7ef-7381443781a6"
      },
      "source": [
        "import glob\n",
        "\n",
        "filedir = glob.glob('/content/drive/MyDrive/Exobrain/qadata2/*')\n",
        "print(filedir)"
      ],
      "execution_count": null,
      "outputs": [
        {
          "output_type": "stream",
          "text": [
            "['/content/drive/MyDrive/Exobrain/qadata2/training_law_mrc.json', '/content/drive/MyDrive/Exobrain/qadata2/test_law_mrc.json', '/content/drive/MyDrive/Exobrain/qadata2/dev_law_mrc.json']\n"
          ],
          "name": "stdout"
        }
      ]
    },
    {
      "cell_type": "code",
      "metadata": {
        "id": "0yvIWGO1I8Vp",
        "colab": {
          "base_uri": "https://localhost:8080/"
        },
        "outputId": "6330a4b6-fb62-49ff-a8af-c21dee515fb1"
      },
      "source": [
        "data = open(filedir[0], 'r', encoding='utf-8')\n",
        "sent = data.readlines()\n",
        "for i in range(0, 10):\n",
        "    print(sent[i])"
      ],
      "execution_count": null,
      "outputs": [
        {
          "output_type": "stream",
          "text": [
            "{\n",
            "\n",
            "\t\"version\": \"엑소브레인_법령QA_2019(training)\",\n",
            "\n",
            "\t\"creator\": \"엑소브레인\",\n",
            "\n",
            "\t\"data\": [\n",
            "\n",
            "\t\t{\n",
            "\n",
            "\t\t\t\"title\": \"러시아연방 헌법\",\n",
            "\n",
            "\t\t\t\"paragraphs\": [\n",
            "\n",
            "\t\t\t\t{\n",
            "\n",
            "\t\t\t\t\t\"context_id\": \"20201_0\",\n",
            "\n",
            "\t\t\t\t\t\"context\": \" 우리는 러시아연방의 다민족이며, 우리 영토에 관한 단일한 운명으로 묶여 있고, 개인의 권리와 자유 그리고 국민의 평화와 합의를 확립하고, 역사적으로 확립된 국가적 일체성을 보존하면서, 평등과 민족자결이라는 보편적 원칙에서 출발하여, 조국에 대한 사랑 그리고 선과 정의에 대한 믿음을 우리에게 전해준 선조를 기리며, 러시아의 주권국가체제를 부흥하고 견고한 민주적 기반을 확립하고, 러시아의 안녕과 번영을 보장할 수 있도록 노력하면서, 현재와 미래의 세대 앞에 조국에 대한 책임감을 가지고, 우리가 세계사회의 일원임을 자각하며, 이에 따라 러시아연방의 헌법을 채택한다.\",\n",
            "\n"
          ],
          "name": "stdout"
        }
      ]
    },
    {
      "cell_type": "code",
      "metadata": {
        "id": "YyGnoeb5JdnR"
      },
      "source": [
        "import re\n",
        "def clean_text(text,pattern):\n",
        "    for sentemp in text:\n",
        "        text = re.sub(pattern=pattern, repl='', string=text)\n",
        "        # text = re.sub(pattern=pattern2, repl='', string=text)\n",
        "        pattern0='\"'\n",
        "        text = re.sub(pattern=pattern0, repl='', string=text)\n",
        "        pattern0='\\n'\n",
        "        text = re.sub(pattern=pattern0, repl='', string=text)\n",
        "        text = text.replace(\".,\", '.')       \n",
        "        text = text.replace(\"?,\", '?')         \n",
        "        # text = text.replace(\"\\\\\", '\"')        \n",
        "    return text    "
      ],
      "execution_count": null,
      "outputs": []
    },
    {
      "cell_type": "code",
      "metadata": {
        "id": "9rfINJ7tJ8SC"
      },
      "source": [
        "cleaned = []\n",
        "for i in range(0, len(sent)-1): \n",
        "      if pattern in sent[i]:\n",
        "          cleaned.append(clean_text(sent[i],pattern))"
      ],
      "execution_count": null,
      "outputs": []
    },
    {
      "cell_type": "code",
      "metadata": {
        "id": "6lSJE0ClJ-sp"
      },
      "source": [
        "cleaned = [ele for ele in cleaned if ele != ''] \n",
        "res = [] \n",
        "[res.append(x) for x in cleaned if x not in res] "
      ],
      "execution_count": null,
      "outputs": []
    },
    {
      "cell_type": "code",
      "metadata": {
        "colab": {
          "base_uri": "https://localhost:8080/"
        },
        "id": "DHzXI_rw3TbJ",
        "outputId": "aa1d17a8-3c3e-411a-824f-c2c15b20864f"
      },
      "source": [
        "!pip install kss\n",
        "from kss import split_sentences\n",
        "\n",
        "ksplited = []\n",
        "for i in range(0, len(res)-1): \n",
        "    split = split_sentences(res[i])\n",
        "    for j in range(0,len(split)-1):\n",
        "      ksplited.append(\"\".join(split_sentences(split[j])))"
      ],
      "execution_count": null,
      "outputs": [
        {
          "output_type": "stream",
          "text": [
            "Requirement already satisfied: kss in /usr/local/lib/python3.7/dist-packages (2.5.0)\n"
          ],
          "name": "stdout"
        }
      ]
    },
    {
      "cell_type": "code",
      "metadata": {
        "colab": {
          "base_uri": "https://localhost:8080/"
        },
        "id": "jSKbN0zCKjY7",
        "outputId": "661058be-db1c-4ade-806b-a2bb57005316"
      },
      "source": [
        "# res.sort()\n",
        "print(len(ksplited))\n",
        "for i in range(0, 10):\n",
        "    print(str(ksplited[i]))"
      ],
      "execution_count": null,
      "outputs": [
        {
          "output_type": "stream",
          "text": [
            "14724\n",
            "제1조 1. 러시아연방, 즉 러시아는 공화국 정부 형태를 가진 민주 연방 법치국가이다.\n",
            "제2조 인간, 그리고 인간의 권리와 자유는 절대적인 가치를 가진다.\n",
            "제3조 1. 러시아연방 주권의 보유자이자 권력의 유일한 원천은 연방의 다국적 국민이다.\n",
            "2. 국민은 직접적으로, 또는 국가 정부기관과 지방자치 정부기관을 통하여 권력을 행사한다.\n",
            "3. 국민투표와 자유선거는 국민에 의한 최고의 직접적인 권력행사이다. 4. 러시아연방에서는 그 누구도 권력을 탈취할 수 없다.\n",
            "제4조 1. 러시아연방의 주권은 연방 내의 전 영토에 미친다.\n",
            "2. 러시아연방 헌법과 연방법률은 러시아연방 전 영토 내에서 최고의 상위법이다.\n",
            "제5조 1. 러시아연방은 동등한 권리를 가지는 연방의 주체로서 공화국, 지방, 주, 연방직할시, 자치주, 자치구로 구성된다.\n",
            "2. 공화국은 자체의 헌법과 법률을 가진다.\n",
            "지방, 주, 연방직할시, 자치주, 자치구는 자체의 헌장과 법령을 가진다.\n"
          ],
          "name": "stdout"
        }
      ]
    },
    {
      "cell_type": "code",
      "metadata": {
        "colab": {
          "base_uri": "https://localhost:8080/"
        },
        "id": "9TTi_BlPKnM6",
        "outputId": "ddd51563-95ae-4d1f-961b-32eb7c9603b3"
      },
      "source": [
        "import pandas as pd\n",
        "corpus = [ksplited]\n",
        "df = pd.DataFrame (corpus,index=[''])\n",
        "print(df.T)"
      ],
      "execution_count": null,
      "outputs": [
        {
          "output_type": "stream",
          "text": [
            "                                                        \n",
            "0       제1조 1. 러시아연방, 즉 러시아는 공화국 정부 형태를 가진 민주 연방 법치국가이다.\n",
            "1                  제2조 인간, 그리고 인간의 권리와 자유는 절대적인 가치를 가진다.\n",
            "2       제3조 1. 러시아연방 주권의 보유자이자 권력의 유일한 원천은 연방의 다국적 국민이다.\n",
            "3      2. 국민은 직접적으로, 또는 국가 정부기관과 지방자치 정부기관을 통하여 권력을 행...\n",
            "4      3. 국민투표와 자유선거는 국민에 의한 최고의 직접적인 권력행사이다. 4. 러시아연...\n",
            "...                                                  ...\n",
            "14719                          제137조 최고인민검찰원은 최고 검찰기관이다.\n",
            "14720  제138조 최고인민검찰원은 전국인민대표대회 및 전국인민대표대회 상무위원회에 대하여 ...\n",
            "14721         제139조 각 민족의 공민은 자기 민족의 언어·문자로 소송할 권리를 가진다.\n",
            "14722  인민법원과 인민검찰원은 그 지역에서 통용하는 언어·문자를 모르는 소송관계자에게 번역...\n",
            "14723                         제141조 중화인민공화국의 국기는 오성홍기이다.\n",
            "\n",
            "[14724 rows x 1 columns]\n"
          ],
          "name": "stdout"
        }
      ]
    },
    {
      "cell_type": "code",
      "metadata": {
        "id": "zaVbYnjlSpmX"
      },
      "source": [
        "df.T.to_csv(filename, sep='\\n',index=False, quoting=None)"
      ],
      "execution_count": null,
      "outputs": []
    },
    {
      "cell_type": "code",
      "metadata": {
        "colab": {
          "base_uri": "https://localhost:8080/",
          "height": 17
        },
        "id": "FWnbzsytSral",
        "outputId": "8f08173f-cbfa-4eee-fd79-eb4024177cf4"
      },
      "source": [
        "from google.colab import files\n",
        "files.download(filename)"
      ],
      "execution_count": null,
      "outputs": [
        {
          "output_type": "display_data",
          "data": {
            "application/javascript": [
              "\n",
              "    async function download(id, filename, size) {\n",
              "      if (!google.colab.kernel.accessAllowed) {\n",
              "        return;\n",
              "      }\n",
              "      const div = document.createElement('div');\n",
              "      const label = document.createElement('label');\n",
              "      label.textContent = `Downloading \"${filename}\": `;\n",
              "      div.appendChild(label);\n",
              "      const progress = document.createElement('progress');\n",
              "      progress.max = size;\n",
              "      div.appendChild(progress);\n",
              "      document.body.appendChild(div);\n",
              "\n",
              "      const buffers = [];\n",
              "      let downloaded = 0;\n",
              "\n",
              "      const channel = await google.colab.kernel.comms.open(id);\n",
              "      // Send a message to notify the kernel that we're ready.\n",
              "      channel.send({})\n",
              "\n",
              "      for await (const message of channel.messages) {\n",
              "        // Send a message to notify the kernel that we're ready.\n",
              "        channel.send({})\n",
              "        if (message.buffers) {\n",
              "          for (const buffer of message.buffers) {\n",
              "            buffers.push(buffer);\n",
              "            downloaded += buffer.byteLength;\n",
              "            progress.value = downloaded;\n",
              "          }\n",
              "        }\n",
              "      }\n",
              "      const blob = new Blob(buffers, {type: 'application/binary'});\n",
              "      const a = document.createElement('a');\n",
              "      a.href = window.URL.createObjectURL(blob);\n",
              "      a.download = filename;\n",
              "      div.appendChild(a);\n",
              "      a.click();\n",
              "      div.remove();\n",
              "    }\n",
              "  "
            ],
            "text/plain": [
              "<IPython.core.display.Javascript object>"
            ]
          },
          "metadata": {
            "tags": []
          }
        },
        {
          "output_type": "display_data",
          "data": {
            "application/javascript": [
              "download(\"download_53ac4367-0af2-4b66-b98d-416e79b00233\", \"01_04A1.txt\", 2407072)"
            ],
            "text/plain": [
              "<IPython.core.display.Javascript object>"
            ]
          },
          "metadata": {
            "tags": []
          }
        }
      ]
    },
    {
      "cell_type": "code",
      "metadata": {
        "id": "rZuIOMBwTFp_"
      },
      "source": [
        ""
      ],
      "execution_count": null,
      "outputs": []
    }
  ]
}