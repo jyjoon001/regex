{
  "nbformat": 4,
  "nbformat_minor": 0,
  "metadata": {
    "colab": {
      "name": "VARegex.ipynb",
      "provenance": [],
      "collapsed_sections": [],
      "authorship_tag": "ABX9TyOCt7RihO+kPQHSu0nuDx3l",
      "include_colab_link": true
    },
    "kernelspec": {
      "name": "python3",
      "display_name": "Python 3"
    }
  },
  "cells": [
    {
      "cell_type": "markdown",
      "metadata": {
        "id": "view-in-github",
        "colab_type": "text"
      },
      "source": [
        "<a href=\"https://colab.research.google.com/github/jyjoon001/regex/blob/main/VARegex.ipynb\" target=\"_parent\"><img src=\"https://colab.research.google.com/assets/colab-badge.svg\" alt=\"Open In Colab\"/></a>"
      ]
    },
    {
      "cell_type": "markdown",
      "metadata": {
        "id": "yL2nSNxFFksi"
      },
      "source": [
        "# VARegex\n",
        "Short code for Preprocessing Japanese Script from SiglusEngine (Visual Art's)\n",
        "> @tobisawa"
      ]
    },
    {
      "cell_type": "code",
      "metadata": {
        "colab": {
          "base_uri": "https://localhost:8080/"
        },
        "id": "4eHZSOOaEFoT",
        "outputId": "abc9bcd6-27cb-41e6-c290-e030067ea84d"
      },
      "source": [
        "from google.colab import drive\n",
        "drive.mount('/content/drive')"
      ],
      "execution_count": null,
      "outputs": [
        {
          "output_type": "stream",
          "text": [
            "Mounted at /content/drive\n"
          ],
          "name": "stdout"
        }
      ]
    },
    {
      "cell_type": "code",
      "metadata": {
        "id": "uM_1SgqwEsvb"
      },
      "source": [
        "import glob\n",
        "\n",
        "filedir = glob.glob('/content/drive/MyDrive/sumpo/*.sxt')\n",
        "print(filedir)"
      ],
      "execution_count": null,
      "outputs": []
    },
    {
      "cell_type": "code",
      "metadata": {
        "id": "1d06uagfPjx5"
      },
      "source": [
        "sentcat = []\n",
        "for i in range(0, len(filedir)-1):\n",
        "    data = open(filedir[i], 'r', encoding='utf-16')\n",
        "    sent = data.readlines()\n",
        "    sentcat.append(sent)\n",
        "for i in range(0, 10):\n",
        "    print(sentcat[i])"
      ],
      "execution_count": null,
      "outputs": []
    },
    {
      "cell_type": "code",
      "metadata": {
        "id": "-vFGmS9PFkQd"
      },
      "source": [
        "import re"
      ],
      "execution_count": null,
      "outputs": []
    },
    {
      "cell_type": "code",
      "metadata": {
        "id": "99ujX4s7GlTN"
      },
      "source": [
        "def clean_text(text):\n",
        "    for sentemp in text:\n",
        "        pattern='●[^●]*●' # テキスト番号の除去\n",
        "        text = re.sub(pattern=pattern, repl='', string=text)\n",
        "        patern='[「」\\「\\」]' # 「」の除去\n",
        "        text = re.sub(pattern=pattern, repl='', string=text)\n",
        "        patern='[『』\\『\\』]' # 『』の除去\n",
        "        text = re.sub(pattern=pattern, repl='', string=text)\n",
        "        pattern = '[^\\w\\s]' # 特殊文字の除去\n",
        "        text = re.sub(pattern=pattern, repl='', string=text)\n",
        "        pattern = '([0-9a-zA-Z]+)' # 英語文字の除去\n",
        "        text = re.sub(pattern=pattern, repl='', string=text)\n",
        "        pattern = '_' # 英語文字の除去\n",
        "        text = re.sub(pattern=pattern, repl='', string=text)\n",
        "        pattern = '　' # 全角空白の除去\n",
        "        text = re.sub(pattern=pattern, repl='', string=text)\n",
        "        pattern = '\\n'\n",
        "        text = re.sub(pattern=pattern, repl='', string=text)\n",
        "    return text    "
      ],
      "execution_count": null,
      "outputs": []
    },
    {
      "cell_type": "code",
      "metadata": {
        "id": "crhNgzAoUDfN"
      },
      "source": [
        "cleaned = []\n",
        "for i in range(0, len(sentcat)-1): \n",
        "    for j in range(0, len(sentcat[i])-1):\n",
        "        cleaned.append(clean_text(sentcat[i][j]))"
      ],
      "execution_count": null,
      "outputs": []
    },
    {
      "cell_type": "code",
      "metadata": {
        "id": "iB_ZPdr7My75"
      },
      "source": [
        "cleaned = [ele for ele in cleaned if ele != ''] \n",
        "res = [] \n",
        "[res.append(x) for x in cleaned if x not in res] "
      ],
      "execution_count": null,
      "outputs": []
    },
    {
      "cell_type": "code",
      "metadata": {
        "colab": {
          "base_uri": "https://localhost:8080/"
        },
        "id": "FbR_1ZBBMhqf",
        "outputId": "b382717f-9bb3-4abb-f3f4-30ef49d9e186"
      },
      "source": [
        "# res.sort()\n",
        "print(len(res))\n",
        "for i in range(0, 10):\n",
        "    print(str(res[i]))"
      ],
      "execution_count": null,
      "outputs": [
        {
          "output_type": "stream",
          "text": [
            "20633\n",
            "日常\n",
            "羽依里\n",
            "「おはよう……」\n",
            "うみ\n",
            "「おはようございます」\n",
            "「今日の朝食は……」\n",
            "妙に食欲を誘う匂いが漂っていた。\n",
            "「この匂いは……蟹！」\n",
            "「蟹チャーハンです」\n",
            "「おお……」\n"
          ],
          "name": "stdout"
        }
      ]
    },
    {
      "cell_type": "code",
      "metadata": {
        "colab": {
          "base_uri": "https://localhost:8080/"
        },
        "id": "rYu45ENuzlJh",
        "outputId": "856c05ab-a9a3-487d-8cd6-4baa45be3070"
      },
      "source": [
        "import pandas as pd\n",
        "corpus = [res]\n",
        "df = pd.DataFrame (corpus,index=[''])\n",
        "print(df.T)"
      ],
      "execution_count": null,
      "outputs": [
        {
          "output_type": "stream",
          "text": [
            "                                \n",
            "0                             日常\n",
            "1                            羽依里\n",
            "2                       「おはよう……」\n",
            "3                             うみ\n",
            "4                    「おはようございます」\n",
            "...                          ...\n",
            "20628                 『速やかに服を着ろ』\n",
            "20629              そして、お決まりのセリフ。\n",
            "20630               けど、今回はそれでいい。\n",
            "20631   俺は颯爽と服を着ると、鉄塔に向かって頭を下げた。\n",
            "20632  遠くにいるのみきが、首をかしげているのがわかった。\n",
            "\n",
            "[20633 rows x 1 columns]\n"
          ],
          "name": "stdout"
        }
      ]
    },
    {
      "cell_type": "code",
      "metadata": {
        "id": "EJ_QJBT1XDJc"
      },
      "source": [
        "# with open(\"einstein.txt\", \"w\") as output:\n",
        "#     output.write(str(res))\n",
        "df.T.to_csv('script'.txt, sep='\\n', index=False)"
      ],
      "execution_count": null,
      "outputs": []
    },
    {
      "cell_type": "code",
      "metadata": {
        "colab": {
          "base_uri": "https://localhost:8080/",
          "height": 17
        },
        "id": "Dt1K6pH8XMid",
        "outputId": "e543050a-5b3f-43a4-f5fa-7b430e015c20"
      },
      "source": [
        "from google.colab import files\n",
        "files.download(\"script.txt\")"
      ],
      "execution_count": null,
      "outputs": [
        {
          "output_type": "display_data",
          "data": {
            "application/javascript": [
              "\n",
              "    async function download(id, filename, size) {\n",
              "      if (!google.colab.kernel.accessAllowed) {\n",
              "        return;\n",
              "      }\n",
              "      const div = document.createElement('div');\n",
              "      const label = document.createElement('label');\n",
              "      label.textContent = `Downloading \"${filename}\": `;\n",
              "      div.appendChild(label);\n",
              "      const progress = document.createElement('progress');\n",
              "      progress.max = size;\n",
              "      div.appendChild(progress);\n",
              "      document.body.appendChild(div);\n",
              "\n",
              "      const buffers = [];\n",
              "      let downloaded = 0;\n",
              "\n",
              "      const channel = await google.colab.kernel.comms.open(id);\n",
              "      // Send a message to notify the kernel that we're ready.\n",
              "      channel.send({})\n",
              "\n",
              "      for await (const message of channel.messages) {\n",
              "        // Send a message to notify the kernel that we're ready.\n",
              "        channel.send({})\n",
              "        if (message.buffers) {\n",
              "          for (const buffer of message.buffers) {\n",
              "            buffers.push(buffer);\n",
              "            downloaded += buffer.byteLength;\n",
              "            progress.value = downloaded;\n",
              "          }\n",
              "        }\n",
              "      }\n",
              "      const blob = new Blob(buffers, {type: 'application/binary'});\n",
              "      const a = document.createElement('a');\n",
              "      a.href = window.URL.createObjectURL(blob);\n",
              "      a.download = filename;\n",
              "      div.appendChild(a);\n",
              "      a.click();\n",
              "      div.remove();\n",
              "    }\n",
              "  "
            ],
            "text/plain": [
              "<IPython.core.display.Javascript object>"
            ]
          },
          "metadata": {
            "tags": []
          }
        },
        {
          "output_type": "display_data",
          "data": {
            "application/javascript": [
              "download(\"download_80a129d7-d2be-459a-8200-f27046ec2a2b\", \"sumpo.txt\", 959932)"
            ],
            "text/plain": [
              "<IPython.core.display.Javascript object>"
            ]
          },
          "metadata": {
            "tags": []
          }
        }
      ]
    },
    {
      "cell_type": "code",
      "metadata": {
        "id": "xf2Sygwh-N0i"
      },
      "source": [
        ""
      ],
      "execution_count": null,
      "outputs": []
    }
  ]
}