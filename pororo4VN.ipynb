{
  "nbformat": 4,
  "nbformat_minor": 0,
  "metadata": {
    "colab": {
      "name": "pororo4VN.ipynb",
      "provenance": [],
      "authorship_tag": "ABX9TyOzFAhCJv/6LliAhlrg5c+P",
      "include_colab_link": true
    },
    "kernelspec": {
      "name": "python3",
      "display_name": "Python 3"
    },
    "language_info": {
      "name": "python"
    }
  },
  "cells": [
    {
      "cell_type": "markdown",
      "metadata": {
        "id": "view-in-github",
        "colab_type": "text"
      },
      "source": [
        "<a href=\"https://colab.research.google.com/github/jyjoon001/regex/blob/main/pororo4VN.ipynb\" target=\"_parent\"><img src=\"https://colab.research.google.com/assets/colab-badge.svg\" alt=\"Open In Colab\"/></a>"
      ]
    },
    {
      "cell_type": "markdown",
      "metadata": {
        "id": "cb9nRdS2F8PQ"
      },
      "source": [
        "# pororo4VN\n",
        "Utilizing PORORO: Platform Of neuRal mOdels for natuRal language prOcessing in KR-JP translation\n",
        "> @tobisawa, forked from [@kakaobrain](https://github.com/kakaobrain/pororo)"
      ]
    },
    {
      "cell_type": "code",
      "metadata": {
        "colab": {
          "base_uri": "https://localhost:8080/"
        },
        "id": "66FRElttHlsJ",
        "outputId": "0228d8fa-0763-47bc-d00f-cc60ca4f16ae"
      },
      "source": [
        "!pip install pororo"
      ],
      "execution_count": null,
      "outputs": [
        {
          "output_type": "stream",
          "text": [
            "Collecting pororo\n",
            "\u001b[?25l  Downloading https://files.pythonhosted.org/packages/78/ab/f409aab13ba2a4e2576d2ea4b877396029c617d17553edbbb9ba64cf4ee9/pororo-0.4.2-py3-none-any.whl (256kB)\n",
            "\u001b[K     |████████████████████████████████| 266kB 4.4MB/s \n",
            "\u001b[?25hCollecting torchvision==0.7.0\n",
            "\u001b[?25l  Downloading https://files.pythonhosted.org/packages/4d/b5/60d5eb61f1880707a5749fea43e0ec76f27dfe69391cdec953ab5da5e676/torchvision-0.7.0-cp37-cp37m-manylinux1_x86_64.whl (5.9MB)\n",
            "\u001b[K     |████████████████████████████████| 5.9MB 7.1MB/s \n",
            "\u001b[?25hCollecting wget\n",
            "  Downloading https://files.pythonhosted.org/packages/47/6a/62e288da7bcda82b935ff0c6cfe542970f04e29c756b0e147251b2fb251f/wget-3.2.zip\n",
            "Requirement already satisfied: lxml in /usr/local/lib/python3.7/dist-packages (from pororo) (4.2.6)\n",
            "Requirement already satisfied: pillow>=4.1.1 in /usr/local/lib/python3.7/dist-packages (from pororo) (7.1.2)\n",
            "Collecting fairseq>=0.10.2\n",
            "\u001b[?25l  Downloading https://files.pythonhosted.org/packages/15/ab/92c6efb05ffdfe16fbdc9e463229d9af8c3b74dc943ed4b4857a87b223c2/fairseq-0.10.2-cp37-cp37m-manylinux1_x86_64.whl (1.7MB)\n",
            "\u001b[K     |████████████████████████████████| 1.7MB 43.3MB/s \n",
            "\u001b[?25hCollecting nltk>=3.5\n",
            "\u001b[?25l  Downloading https://files.pythonhosted.org/packages/5e/37/9532ddd4b1bbb619333d5708aaad9bf1742f051a664c3c6fa6632a105fd8/nltk-3.6.2-py3-none-any.whl (1.5MB)\n",
            "\u001b[K     |████████████████████████████████| 1.5MB 23.0MB/s \n",
            "\u001b[?25hCollecting transformers>=4.0.0\n",
            "\u001b[?25l  Downloading https://files.pythonhosted.org/packages/d8/b2/57495b5309f09fa501866e225c84532d1fd89536ea62406b2181933fb418/transformers-4.5.1-py3-none-any.whl (2.1MB)\n",
            "\u001b[K     |████████████████████████████████| 2.1MB 39.3MB/s \n",
            "\u001b[?25hCollecting kss\n",
            "\u001b[?25l  Downloading https://files.pythonhosted.org/packages/c9/e2/43ac92280810437a552111db85a0379dfaa5ca8ccd81d27a547e9091e5d5/kss-2.5.0-py3-none-any.whl (68kB)\n",
            "\u001b[K     |████████████████████████████████| 71kB 7.2MB/s \n",
            "\u001b[?25hCollecting g2p-en\n",
            "\u001b[?25l  Downloading https://files.pythonhosted.org/packages/d7/d9/b77dc634a7a0c0c97716ba97dd0a28cbfa6267c96f359c4f27ed71cbd284/g2p_en-2.1.0-py3-none-any.whl (3.1MB)\n",
            "\u001b[K     |████████████████████████████████| 3.1MB 42.6MB/s \n",
            "\u001b[?25hRequirement already satisfied: joblib in /usr/local/lib/python3.7/dist-packages (from pororo) (1.0.1)\n",
            "Collecting whoosh\n",
            "\u001b[?25l  Downloading https://files.pythonhosted.org/packages/ba/19/24d0f1f454a2c1eb689ca28d2f178db81e5024f42d82729a4ff6771155cf/Whoosh-2.7.4-py2.py3-none-any.whl (468kB)\n",
            "\u001b[K     |████████████████████████████████| 471kB 42.7MB/s \n",
            "\u001b[?25hCollecting word2word\n",
            "  Downloading https://files.pythonhosted.org/packages/0b/27/f6e5252e44fbf10678189aa7c03dfaec44942d2cd593cb957263862a650a/word2word-1.0.0-py3-none-any.whl\n",
            "Collecting sentence-transformers>=0.4.1.2\n",
            "\u001b[?25l  Downloading https://files.pythonhosted.org/packages/c4/87/49dc49e13ac107ce912c2f3f3fd92252c6d4221e88d1e6c16747044a11d8/sentence-transformers-1.1.0.tar.gz (78kB)\n",
            "\u001b[K     |████████████████████████████████| 81kB 7.7MB/s \n",
            "\u001b[?25hCollecting marisa-trie\n",
            "\u001b[?25l  Downloading https://files.pythonhosted.org/packages/20/95/d23071d0992dabcb61c948fb118a90683193befc88c23e745b050a29e7db/marisa-trie-0.7.5.tar.gz (270kB)\n",
            "\u001b[K     |████████████████████████████████| 276kB 37.0MB/s \n",
            "\u001b[?25hCollecting torch==1.6.0\n",
            "\u001b[?25l  Downloading https://files.pythonhosted.org/packages/5d/5e/35140615fc1f925023f489e71086a9ecc188053d263d3594237281284d82/torch-1.6.0-cp37-cp37m-manylinux1_x86_64.whl (748.8MB)\n",
            "\u001b[K     |████████████████████████████████| 748.8MB 22kB/s \n",
            "\u001b[?25hRequirement already satisfied: numpy in /usr/local/lib/python3.7/dist-packages (from torchvision==0.7.0->pororo) (1.19.5)\n",
            "Collecting dataclasses\n",
            "  Downloading https://files.pythonhosted.org/packages/26/2f/1095cdc2868052dd1e64520f7c0d5c8c550ad297e944e641dbf1ffbb9a5d/dataclasses-0.6-py3-none-any.whl\n",
            "Requirement already satisfied: cython in /usr/local/lib/python3.7/dist-packages (from fairseq>=0.10.2->pororo) (0.29.22)\n",
            "Requirement already satisfied: regex in /usr/local/lib/python3.7/dist-packages (from fairseq>=0.10.2->pororo) (2019.12.20)\n",
            "Collecting sacrebleu>=1.4.12\n",
            "\u001b[?25l  Downloading https://files.pythonhosted.org/packages/7e/57/0c7ca4e31a126189dab99c19951910bd081dea5bbd25f24b77107750eae7/sacrebleu-1.5.1-py3-none-any.whl (54kB)\n",
            "\u001b[K     |████████████████████████████████| 61kB 6.5MB/s \n",
            "\u001b[?25hCollecting hydra-core\n",
            "\u001b[?25l  Downloading https://files.pythonhosted.org/packages/52/e3/fbd70dd0d3ce4d1d75c22d56c0c9f895cfa7ed6587a9ffb821d6812d6a60/hydra_core-1.0.6-py3-none-any.whl (123kB)\n",
            "\u001b[K     |████████████████████████████████| 133kB 48.6MB/s \n",
            "\u001b[?25hRequirement already satisfied: tqdm in /usr/local/lib/python3.7/dist-packages (from fairseq>=0.10.2->pororo) (4.41.1)\n",
            "Requirement already satisfied: cffi in /usr/local/lib/python3.7/dist-packages (from fairseq>=0.10.2->pororo) (1.14.5)\n",
            "Requirement already satisfied: click in /usr/local/lib/python3.7/dist-packages (from nltk>=3.5->pororo) (7.1.2)\n",
            "Requirement already satisfied: importlib-metadata; python_version < \"3.8\" in /usr/local/lib/python3.7/dist-packages (from transformers>=4.0.0->pororo) (3.10.1)\n",
            "Requirement already satisfied: filelock in /usr/local/lib/python3.7/dist-packages (from transformers>=4.0.0->pororo) (3.0.12)\n",
            "Collecting tokenizers<0.11,>=0.10.1\n",
            "\u001b[?25l  Downloading https://files.pythonhosted.org/packages/ae/04/5b870f26a858552025a62f1649c20d29d2672c02ff3c3fb4c688ca46467a/tokenizers-0.10.2-cp37-cp37m-manylinux2010_x86_64.whl (3.3MB)\n",
            "\u001b[K     |████████████████████████████████| 3.3MB 43.6MB/s \n",
            "\u001b[?25hRequirement already satisfied: packaging in /usr/local/lib/python3.7/dist-packages (from transformers>=4.0.0->pororo) (20.9)\n",
            "Requirement already satisfied: requests in /usr/local/lib/python3.7/dist-packages (from transformers>=4.0.0->pororo) (2.23.0)\n",
            "Collecting sacremoses\n",
            "\u001b[?25l  Downloading https://files.pythonhosted.org/packages/75/ee/67241dc87f266093c533a2d4d3d69438e57d7a90abb216fa076e7d475d4a/sacremoses-0.0.45-py3-none-any.whl (895kB)\n",
            "\u001b[K     |████████████████████████████████| 901kB 43.4MB/s \n",
            "\u001b[?25hCollecting distance>=0.1.3\n",
            "\u001b[?25l  Downloading https://files.pythonhosted.org/packages/5c/1a/883e47df323437aefa0d0a92ccfb38895d9416bd0b56262c2e46a47767b8/Distance-0.1.3.tar.gz (180kB)\n",
            "\u001b[K     |████████████████████████████████| 184kB 55.0MB/s \n",
            "\u001b[?25hRequirement already satisfied: inflect>=0.3.1 in /usr/local/lib/python3.7/dist-packages (from g2p-en->pororo) (2.1.0)\n",
            "Requirement already satisfied: scikit-learn in /usr/local/lib/python3.7/dist-packages (from sentence-transformers>=0.4.1.2->pororo) (0.22.2.post1)\n",
            "Requirement already satisfied: scipy in /usr/local/lib/python3.7/dist-packages (from sentence-transformers>=0.4.1.2->pororo) (1.4.1)\n",
            "Collecting sentencepiece\n",
            "\u001b[?25l  Downloading https://files.pythonhosted.org/packages/f5/99/e0808cb947ba10f575839c43e8fafc9cc44e4a7a2c8f79c60db48220a577/sentencepiece-0.1.95-cp37-cp37m-manylinux2014_x86_64.whl (1.2MB)\n",
            "\u001b[K     |████████████████████████████████| 1.2MB 36.7MB/s \n",
            "\u001b[?25hRequirement already satisfied: future in /usr/local/lib/python3.7/dist-packages (from torch==1.6.0->pororo) (0.16.0)\n",
            "Collecting portalocker==2.0.0\n",
            "  Downloading https://files.pythonhosted.org/packages/89/a6/3814b7107e0788040870e8825eebf214d72166adf656ba7d4bf14759a06a/portalocker-2.0.0-py2.py3-none-any.whl\n",
            "Requirement already satisfied: importlib-resources; python_version < \"3.9\" in /usr/local/lib/python3.7/dist-packages (from hydra-core->fairseq>=0.10.2->pororo) (5.1.2)\n",
            "Collecting omegaconf<2.1,>=2.0.5\n",
            "  Downloading https://files.pythonhosted.org/packages/d0/eb/9d63ce09dd8aa85767c65668d5414958ea29648a0eec80a4a7d311ec2684/omegaconf-2.0.6-py3-none-any.whl\n",
            "Collecting antlr4-python3-runtime==4.8\n",
            "\u001b[?25l  Downloading https://files.pythonhosted.org/packages/56/02/789a0bddf9c9b31b14c3e79ec22b9656185a803dc31c15f006f9855ece0d/antlr4-python3-runtime-4.8.tar.gz (112kB)\n",
            "\u001b[K     |████████████████████████████████| 112kB 54.4MB/s \n",
            "\u001b[?25hRequirement already satisfied: pycparser in /usr/local/lib/python3.7/dist-packages (from cffi->fairseq>=0.10.2->pororo) (2.20)\n",
            "Requirement already satisfied: zipp>=0.5 in /usr/local/lib/python3.7/dist-packages (from importlib-metadata; python_version < \"3.8\"->transformers>=4.0.0->pororo) (3.4.1)\n",
            "Requirement already satisfied: typing-extensions>=3.6.4; python_version < \"3.8\" in /usr/local/lib/python3.7/dist-packages (from importlib-metadata; python_version < \"3.8\"->transformers>=4.0.0->pororo) (3.7.4.3)\n",
            "Requirement already satisfied: pyparsing>=2.0.2 in /usr/local/lib/python3.7/dist-packages (from packaging->transformers>=4.0.0->pororo) (2.4.7)\n",
            "Requirement already satisfied: idna<3,>=2.5 in /usr/local/lib/python3.7/dist-packages (from requests->transformers>=4.0.0->pororo) (2.10)\n",
            "Requirement already satisfied: urllib3!=1.25.0,!=1.25.1,<1.26,>=1.21.1 in /usr/local/lib/python3.7/dist-packages (from requests->transformers>=4.0.0->pororo) (1.24.3)\n",
            "Requirement already satisfied: chardet<4,>=3.0.2 in /usr/local/lib/python3.7/dist-packages (from requests->transformers>=4.0.0->pororo) (3.0.4)\n",
            "Requirement already satisfied: certifi>=2017.4.17 in /usr/local/lib/python3.7/dist-packages (from requests->transformers>=4.0.0->pororo) (2020.12.5)\n",
            "Requirement already satisfied: six in /usr/local/lib/python3.7/dist-packages (from sacremoses->transformers>=4.0.0->pororo) (1.15.0)\n",
            "Collecting PyYAML>=5.1.*\n",
            "\u001b[?25l  Downloading https://files.pythonhosted.org/packages/7a/a5/393c087efdc78091afa2af9f1378762f9821c9c1d7a22c5753fb5ac5f97a/PyYAML-5.4.1-cp37-cp37m-manylinux1_x86_64.whl (636kB)\n",
            "\u001b[K     |████████████████████████████████| 645kB 44.4MB/s \n",
            "\u001b[?25hBuilding wheels for collected packages: wget, sentence-transformers, marisa-trie, distance, antlr4-python3-runtime\n",
            "  Building wheel for wget (setup.py) ... \u001b[?25l\u001b[?25hdone\n",
            "  Created wheel for wget: filename=wget-3.2-cp37-none-any.whl size=9681 sha256=8138a15945e4cbf66ee99894d5011dbff0844b33066af0a3babdf835da662c10\n",
            "  Stored in directory: /root/.cache/pip/wheels/40/15/30/7d8f7cea2902b4db79e3fea550d7d7b85ecb27ef992b618f3f\n",
            "  Building wheel for sentence-transformers (setup.py) ... \u001b[?25l\u001b[?25hdone\n",
            "  Created wheel for sentence-transformers: filename=sentence_transformers-1.1.0-cp37-none-any.whl size=119615 sha256=be23a36a06d5ef4c1e7174da5f7487ee3036d0c92f5e406104b9721fe0273aa4\n",
            "  Stored in directory: /root/.cache/pip/wheels/84/cb/21/1066bff3027215c760ca14a198f698bca8fccb92e33e2327eb\n",
            "  Building wheel for marisa-trie (setup.py) ... \u001b[?25l\u001b[?25hdone\n",
            "  Created wheel for marisa-trie: filename=marisa_trie-0.7.5-cp37-cp37m-linux_x86_64.whl size=861802 sha256=24734ca67cd2f7842f85b6161a65b358adde0967628f73dbc700e494574116bd\n",
            "  Stored in directory: /root/.cache/pip/wheels/45/24/79/022624fc914f0e559fe8a1141aaff1f9df810905a13fc75d57\n",
            "  Building wheel for distance (setup.py) ... \u001b[?25l\u001b[?25hdone\n",
            "  Created wheel for distance: filename=Distance-0.1.3-cp37-none-any.whl size=16261 sha256=aa98f643f9aa2e447a59ee64cf6792a2029909176e017395cef84c4c49e28d02\n",
            "  Stored in directory: /root/.cache/pip/wheels/d5/aa/e1/dbba9e7b6d397d645d0f12db1c66dbae9c5442b39b001db18e\n",
            "  Building wheel for antlr4-python3-runtime (setup.py) ... \u001b[?25l\u001b[?25hdone\n",
            "  Created wheel for antlr4-python3-runtime: filename=antlr4_python3_runtime-4.8-cp37-none-any.whl size=141231 sha256=96e4505a2c80083812902ca785310a40c7b988e4ca605fd0dc8cc8300216e124\n",
            "  Stored in directory: /root/.cache/pip/wheels/e3/e2/fa/b78480b448b8579ddf393bebd3f47ee23aa84c89b6a78285c8\n",
            "Successfully built wget sentence-transformers marisa-trie distance antlr4-python3-runtime\n",
            "\u001b[31mERROR: torchtext 0.9.1 has requirement torch==1.8.1, but you'll have torch 1.6.0 which is incompatible.\u001b[0m\n",
            "Installing collected packages: torch, torchvision, wget, dataclasses, portalocker, sacrebleu, PyYAML, omegaconf, antlr4-python3-runtime, hydra-core, fairseq, nltk, tokenizers, sacremoses, transformers, kss, distance, g2p-en, whoosh, word2word, sentencepiece, sentence-transformers, marisa-trie, pororo\n",
            "  Found existing installation: torch 1.8.1+cu101\n",
            "    Uninstalling torch-1.8.1+cu101:\n",
            "      Successfully uninstalled torch-1.8.1+cu101\n",
            "  Found existing installation: torchvision 0.9.1+cu101\n",
            "    Uninstalling torchvision-0.9.1+cu101:\n",
            "      Successfully uninstalled torchvision-0.9.1+cu101\n",
            "  Found existing installation: PyYAML 3.13\n",
            "    Uninstalling PyYAML-3.13:\n",
            "      Successfully uninstalled PyYAML-3.13\n",
            "  Found existing installation: nltk 3.2.5\n",
            "    Uninstalling nltk-3.2.5:\n",
            "      Successfully uninstalled nltk-3.2.5\n",
            "Successfully installed PyYAML-5.4.1 antlr4-python3-runtime-4.8 dataclasses-0.6 distance-0.1.3 fairseq-0.10.2 g2p-en-2.1.0 hydra-core-1.0.6 kss-2.5.0 marisa-trie-0.7.5 nltk-3.6.2 omegaconf-2.0.6 pororo-0.4.2 portalocker-2.0.0 sacrebleu-1.5.1 sacremoses-0.0.45 sentence-transformers-1.1.0 sentencepiece-0.1.95 tokenizers-0.10.2 torch-1.6.0 torchvision-0.7.0 transformers-4.5.1 wget-3.2 whoosh-2.7.4 word2word-1.0.0\n"
          ],
          "name": "stdout"
        }
      ]
    },
    {
      "cell_type": "code",
      "metadata": {
        "colab": {
          "base_uri": "https://localhost:8080/"
        },
        "id": "8FTkEhcgF57Q",
        "outputId": "55ac289d-4b44-4948-aed4-7ef2974a95f1"
      },
      "source": [
        "from google.colab import drive\n",
        "drive.mount('/content/drive')\n",
        "%cd /content/drive/MyDrive/"
      ],
      "execution_count": null,
      "outputs": [
        {
          "output_type": "stream",
          "text": [
            "Drive already mounted at /content/drive; to attempt to forcibly remount, call drive.mount(\"/content/drive\", force_remount=True).\n",
            "/content/drive/MyDrive\n"
          ],
          "name": "stdout"
        }
      ]
    },
    {
      "cell_type": "code",
      "metadata": {
        "colab": {
          "base_uri": "https://localhost:8080/"
        },
        "id": "lFUORumBLzsZ",
        "outputId": "53da880c-6a8f-4433-e594-e51453b32502"
      },
      "source": [
        "import glob\n",
        "filedir = glob.glob('/content/drive/MyDrive/sumpo/*.sxt')\n",
        "sentcat = []\n",
        "for i in range(0, len(filedir)-1):\n",
        "    data = open(filedir[i], 'r', encoding='utf-16')\n",
        "    sent = data.readlines()\n",
        "    sentcat.append(sent)\n",
        "import re\n",
        "def clean_text(text):\n",
        "    for sentemp in text:\n",
        "        pattern='●[^●]*●' # テキスト番号の除去\n",
        "        text = re.sub(pattern=pattern, repl='', string=text)\n",
        "        #patern='[「」\\「\\」]' # 「」の除去\n",
        "        #text = re.sub(pattern=pattern, repl='', string=text)\n",
        "        #patern='[『』\\『\\』]' # 『』の除去\n",
        "        #text = re.sub(pattern=pattern, repl='', string=text)\n",
        "        #pattern = '[^\\w\\s]' # 特殊文字の除去\n",
        "        #text = re.sub(pattern=pattern, repl='', string=text)\n",
        "        pattern = '([0-9a-zA-Z]+)' # 英語文字の除去\n",
        "        text = re.sub(pattern=pattern, repl='', string=text)\n",
        "        pattern = '_' # 英語文字の除去\n",
        "        text = re.sub(pattern=pattern, repl='', string=text)\n",
        "        pattern = '　' # 全角空白の除去\n",
        "        text = re.sub(pattern=pattern, repl='', string=text)\n",
        "        pattern = '\\n'\n",
        "        text = re.sub(pattern=pattern, repl='', string=text)\n",
        "    return text    \n",
        "cleaned = []\n",
        "for i in range(0, len(sentcat)-1): \n",
        "    for j in range(0, len(sentcat[i])-1):\n",
        "        cleaned.append(clean_text(sentcat[i][j]))\n",
        "cleaned = [ele for ele in cleaned if ele != ''] \n",
        "res = [] \n",
        "[res.append(x) for x in cleaned if x not in res] \n",
        "# res.sort()\n",
        "print(len(res))\n",
        "for i in range(0, 10):\n",
        "    print(str(res[i]))"
      ],
      "execution_count": null,
      "outputs": [
        {
          "output_type": "stream",
          "text": [
            "20633\n",
            "日常\n",
            "羽依里\n",
            "「おはよう……」\n",
            "うみ\n",
            "「おはようございます」\n",
            "「今日の朝食は……」\n",
            "妙に食欲を誘う匂いが漂っていた。\n",
            "「この匂いは……蟹！」\n",
            "「蟹チャーハンです」\n",
            "「おお……」\n"
          ],
          "name": "stdout"
        }
      ]
    },
    {
      "cell_type": "code",
      "metadata": {
        "id": "37bW9YZIKshQ"
      },
      "source": [
        "from pororo import Pororo"
      ],
      "execution_count": null,
      "outputs": []
    },
    {
      "cell_type": "code",
      "metadata": {
        "id": "ZaH28yBILbWB"
      },
      "source": [
        "trans=[]\n",
        "mt = Pororo(task=\"translation\", lang=\"multi\")\n",
        "for i in range(0, 100):\n",
        "    trans.append(mt(str(res[i]), src=\"ja\", tgt=\"ko\"))"
      ],
      "execution_count": null,
      "outputs": []
    },
    {
      "cell_type": "code",
      "metadata": {
        "colab": {
          "base_uri": "https://localhost:8080/"
        },
        "id": "Kdcmv79ePI6S",
        "outputId": "f043fda3-03fc-4800-f3b0-9ca143a36e9b"
      },
      "source": [
        "for i in range(0, 100):\n",
        "    print(str(res[i]))"
      ],
      "execution_count": null,
      "outputs": [
        {
          "output_type": "stream",
          "text": [
            "日常\n",
            "羽依里\n",
            "「おはよう……」\n",
            "うみ\n",
            "「おはようございます」\n",
            "「今日の朝食は……」\n",
            "妙に食欲を誘う匂いが漂っていた。\n",
            "「この匂いは……蟹！」\n",
            "「蟹チャーハンです」\n",
            "「おお……」\n",
            "「蟹、大好きだよ……うん」\n",
            "「よかったです」\n",
            "チャーハン以外の形で食べたかった。\n",
            "「でもどこで蟹なんて……」\n",
            "「港でもらったんです」\n",
            "「この辺蟹がとれるの？」\n",
            "そしてほいほい、蟹なんてもらえるの？？\n",
            "「現にこうしてあるんですから、とれるんじゃないですか」\n",
            "「何かリクエストがあれば、チャーハンの具に盛り込みますよ」\n",
            "「チャーハン前提なんだね」\n",
            "「もちろんです」\n",
            "うみちゃん特製、蟹チャーハンを口に運ぶ。\n",
            "磯と蟹の風味がしっかりと染み込んだ、ふわっとした卵がお米に絡んでいる。\n",
            "立派な蟹チャーハンだ。\n",
            "「お、美味しい」\n",
            "「ふふん」\n",
            "「鷹原さんは、好きなものとかあります？」\n",
            "「んー」\n",
            "「……ささみかな」\n",
            "「さ、ささみ？」\n",
            "「知らない？」\n",
            "「知ってますが。あのぱさぱさしたお肉ですね」\n",
            "「うん」\n",
            "「あまり、ささみが好きって、聞かないので戸惑いました」\n",
            "「一瞬、刺身かどっちだ？って考えましたよ」\n",
            "「脂質が少なくてタンパク質がとれるから、体作りにはもってこいなんだよ」\n",
            "「なぬ」\n",
            "「体作りにはもってこいって……」\n",
            "「……」\n",
            "「胸には効果あるか知らないよ」\n",
            "「！？」\n",
            "「だ、誰もそんなこと言ってませんが」\n",
            "「ごめんごめん」\n",
            "うみちゃんは朝食後、颯爽と出かけていった。\n",
            "さて、俺はどうしよう？\n",
            "とりあえず……\n",
            "「あのー、鏡子さん」\n",
            "鏡子\n",
            "「蔵の方はまだいいわ」\n",
            "にべもなく。\n",
            "「もう少しいる物といらない物を分けなきゃいけないし」\n",
            "「そうですか」\n",
            "「折角だし、鳥白島を楽しんでおいて」\n",
            "「都会と違うところが沢山あって楽しいわよ」\n",
            "「じゃあ、お言葉に甘えます」\n",
            "手伝い、断られてしまった。\n",
            "「気を遣ってくれてるのかな」\n",
            "まぁ、まだちゃんと行っていない場所もあるし。\n",
            "今日も、ぶらぶらしてみるとするか。\n",
            "「ただいま」\n",
            "「おかえりなさいこけー！」\n",
            "「う、うみちゃん？」\n",
            "「実は今日、くけー！」\n",
            "うみちゃんが、壊れていた。\n",
            "「ここここここけー！」\n",
            "「どうしたの」\n",
            "「どうしたもこうしたも」\n",
            "鶏\n",
            "「こけー！」\n",
            "「あれ」\n",
            "台所のすみで、何かがわさわさ動いていた。\n",
            "鶏だった。\n",
            "そうか。さっきのはうみちゃんじゃなくて、こいつか。\n",
            "うみちゃんが壊れたのかと心配になったよ。\n",
            "「なんで家に鶏が」\n",
            "「こけ」\n",
            "「もらってきました」\n",
            "「ささみのために」\n",
            "「こんなまるごと……」\n",
            "「これどうしよう」\n",
            "「どうしましょう」\n",
            "「ささみを取り出したいのですが」\n",
            "「どう取り出したものか」\n",
            "「そうだね」\n",
            "鶏は部屋の中を歩き回っている。\n",
            "「はさみを使うとか。ささみだけに」\n",
            "「こ、怖いジョークを言わないで下さい」\n",
            "「鷹原さん、ぐろいの好きなので、おまかせしますよ」\n",
            "「待って。俺が好きなのはもっと精神的なぐろさであって」\n",
            "「そんな話聞きたくないです」\n",
            "「あれ、その鶏どうしたの」\n",
            "「もらってきたんです」\n",
            "「さばくの？」\n",
            "「え」\n",
            "「さばくんでしょ」\n",
            "「は、はい」\n",
            "「かして」\n",
            "ぐぎ。\n",
            "羽依里・うみ\n",
            "「じゃあむこうでさばいてくるね」\n"
          ],
          "name": "stdout"
        }
      ]
    },
    {
      "cell_type": "code",
      "metadata": {
        "colab": {
          "base_uri": "https://localhost:8080/"
        },
        "id": "rPKgxfzPKrMK",
        "outputId": "acc88251-fbb5-491c-a8ce-a6a854d68c87"
      },
      "source": [
        "for i in range(0, 100):\n",
        "    print(trans[i])"
      ],
      "execution_count": null,
      "outputs": [
        {
          "output_type": "stream",
          "text": [
            "일상\n",
            "우의리\n",
            "「안녕…」\n",
            "바다\n",
            "「안녕하세요」\n",
            "「오늘 아침식사는…」\n",
            "묘하게 식욕을 유도하는 냄새가 나고 있었다.\n",
            "이 냄새는…게!\n",
            "「게차한입니다」\n",
            "오오오\n",
            "「게, 무척 좋아해…...」\n",
            "「좋았습니다」\n",
            "차한 이외의 모양으로 먹고 싶었어.\n",
            "「하지만 어디서 게라니…」\n",
            "「항구에서 받았습니다」\n",
            "이 근처 게를 잡을 수 있니?\n",
            "그리고 게 좀 주시겠어요? ?\n",
            "「지금 이렇게 하고 있으니까 받을 수 있잖아요」\n",
            "「무슨 리퀘스트가 있으면 차한 물건에 담을 거예요」\n",
            "「차한 전제야」\n",
            "물론입니다.\n",
            "우미 특제, 게차한을 입에 옮기다.\n",
            "바닷가와 게의 풍미가 잘 스며들었고, 담백한 계란이 쌀에 얽혀 있다.\n",
            "멋진 게 차한이야.\n",
            "아, 맛있다.\n",
            "펑펑\n",
            "'타카하라 씨는 좋아하는 것이라든가 있습니까?\n",
            "음…\n",
            "사미나\n",
            "자, 가위?\n",
            "몰라?\n",
            "알고 있는데요.\n",
            "응\n",
            "「너무 고사미를 좋아해서 듣지 않아서 당황했습니다」\n",
            "「한순간, 회는 어느 쪽이야?\n",
            "'지질이 적어서 탱크질이 떨어지니까 체조에는 가지고 온 거야'\n",
            "아니다\n",
            "「몸 만들기에는 더 좋다니…」\n",
            "….\n",
            "'가슴에는 효과가 있는지 모르겠어'\n",
            "「! ?\n",
            "「다, 아무도 그런 말 하지 않았습니다만」\n",
            "미안해\n",
            "우미는 아침 식사 후 상쾌하게 나갔다.\n",
            "그럼, 나는 어떻게 할까?\n",
            "우선…\n",
            "저기, 거울코 씨\n",
            "경자\n",
            "「장 쪽은 아직 괜찮아」\n",
            "웃음도 없이\n",
            "좀더 있는 것이 필요한 것을 나눠야 하고\n",
            "「그래요?」\n",
            "「우연히 새하얀 섬을 즐겨 두어」\n",
            "「도시와 다른 곳이 많아서 즐거워요」\n",
            "「그럼, 말씀을 달갑게 하겠습니다」\n",
            "거절당하고 말았어.\n",
            "「신경써 주고 있는 걸까」\n",
            "어머, 아직 제대로 가지 않은 곳도 있고.\n",
            "오늘도 빈둥빈둥 놀아보겠다고 할까?\n",
            "다녀왔어요\n",
            "「어서 오세요 이 녀석아!\n",
            "에, 우미 짱?\n",
            "「사실은 오늘, 주지!\n",
            "우미가 망가져 있었어.\n",
            "여기 여기 이봐!\n",
            "「왜 그래?」\n",
            "아무래도 이렇게 해도\n",
            "닭\n",
            "이 녀석!\n",
            "저거\n",
            "부엌 끝에서 뭔가가 와삭와삭 움직이고 있었다.\n",
            "닭이었어.\n",
            "그래? 아까 하미가 아니라 이 녀석인가?\n",
            "우미가 망가졌는지 걱정이 되었어.\n",
            "「왜 집에 닭이」\n",
            "이거\n",
            "「받아왔습니다」\n",
            "「가위 때문에」\n",
            "「이런 일」\n",
            "「이거 어떡하지」\n",
            "어떻게 하죠?\n",
            "「가위를 꺼내고 싶은데요」\n",
            "「어떻게 꺼낸 걸까」\n",
            "「그래」\n",
            "닭은 방안을 돌아다니고 있다.\n",
            "가위를 쓴다던가?\n",
            "「아, 무서운 조크 하지 마세요」\n",
            "「타카하라 씨, 정도 좋아하니까 맡기겠습니다」\n",
            "기다려.\n",
            "「그런 얘기 듣고 싶지 않아요」\n",
            "어, 그 닭 어떻게 된 거야?\n",
            "「받아왔습니다」\n",
            "「사박하니?\n",
            "「예」\n",
            "「사막이잖아」\n",
            "「네, 네」\n",
            "「그래서」\n",
            "우의.\n",
            "우의리 바다\n",
            "그럼 저쪽에서 놀러 올게요.\n"
          ],
          "name": "stdout"
        }
      ]
    },
    {
      "cell_type": "code",
      "metadata": {
        "colab": {
          "base_uri": "https://localhost:8080/"
        },
        "id": "m6E8S0wFLnZq",
        "outputId": "ae335d66-3b7c-4ce6-ff72-16350c0492ac"
      },
      "source": [
        "type(res)"
      ],
      "execution_count": null,
      "outputs": [
        {
          "output_type": "execute_result",
          "data": {
            "text/plain": [
              "str"
            ]
          },
          "metadata": {
            "tags": []
          },
          "execution_count": 17
        }
      ]
    },
    {
      "cell_type": "code",
      "metadata": {
        "colab": {
          "base_uri": "https://localhost:8080/"
        },
        "id": "j5c6s6S0LoIa",
        "outputId": "de8103a9-76ad-428d-a475-dd116ffef84f"
      },
      "source": [
        "print(res)"
      ],
      "execution_count": null,
      "outputs": [
        {
          "output_type": "stream",
          "text": [
            "우의리\n"
          ],
          "name": "stdout"
        }
      ]
    },
    {
      "cell_type": "code",
      "metadata": {
        "id": "y4lCoVuULpSh"
      },
      "source": [
        ""
      ],
      "execution_count": null,
      "outputs": []
    }
  ]
}